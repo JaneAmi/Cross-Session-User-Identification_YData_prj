{
 "cells": [
  {
   "cell_type": "code",
   "execution_count": 1,
   "metadata": {},
   "outputs": [],
   "source": [
    "import pandas as pd\n",
    "import numpy as np\n",
    "\n",
    "\n",
    "import utilities.test_train_utils as ttu\n",
    "import models.siamese_nn_utils as snu\n",
    "\n",
    "from data_pipeline import data_preprocessing_utils as dpu\n",
    "\n",
    "import torch\n",
    "import torch.nn as nn\n",
    "import torch.optim as optim\n",
    "from torch.utils.data import DataLoader\n",
    "\n",
    "from tqdm import tqdm\n",
    "import sys\n",
    "\n",
    "from scipy.spatial import distance"
   ]
  },
  {
   "cell_type": "markdown",
   "metadata": {},
   "source": [
    "<h3>Dataset</h3>\n",
    "\n",
    "- choose randomly 100 users for train set\n",
    "\n",
    "- crate pairs with the ratio 5 negative to 1 positive\n",
    "\n",
    "- check euclidian distance on the preprocess data data (before embedding) --> define margin\n",
    "\n"
   ]
  },
  {
   "cell_type": "code",
   "execution_count": 2,
   "metadata": {},
   "outputs": [
    {
     "name": "stderr",
     "output_type": "stream",
     "text": [
      "/var/folders/p8/b11rskbj1zdf4sn__0fjfwdm0000gn/T/ipykernel_6810/646181006.py:7: DtypeWarning: Columns (11,12,14) have mixed types. Specify dtype option on import or set low_memory=False.\n",
      "  df_env = pd.read_csv('../processed_data/df_env.csv')\n"
     ]
    }
   ],
   "source": [
    "# read data\n",
    "df_preprocessed = pd.read_csv('../tmp_processed_data/tmp_df_env_preprocessed_grouped_with_cat_min_max.csv')\n",
    "\n",
    "# read original env data to create test/train/val set from session id\n",
    "# we need the original data in the case if we want to create a dataset from the last sessions of each user\n",
    "# for that we need the session_timestamp column which we don't have in the preprocessed data\n",
    "df_env = pd.read_csv('../processed_data/df_env.csv')\n",
    "\n",
    "#random state\n",
    "rs = 42\n",
    "\n",
    "# some preprocessing of the original data\n",
    "w_df = df_env.copy()\n",
    "w_df = dpu.IDTransformer('user_id').fit_transform(w_df)\n",
    "w_df = dpu.IDTransformer('session_id').fit_transform(w_df)"
   ]
  },
  {
   "cell_type": "code",
   "execution_count": 3,
   "metadata": {},
   "outputs": [
    {
     "name": "stdout",
     "output_type": "stream",
     "text": [
      "Amount of unique sessions in the train set: 1002\n",
      "Amount of unique users in the train set: 70\n",
      "\n",
      "Amount of unique sessions in the validation set: 322\n",
      "Amount of unique users in the validation set: 30\n"
     ]
    }
   ],
   "source": [
    "# - choose randomly 100 users for train set\n",
    "hundred_users = df_preprocessed['user_id'].sample(n=100, random_state=4)\n",
    "\n",
    "# from train set create train (70%) and val (30%) for the model, divided by users\n",
    "train_set_nn_tmp, val_set_nn_tmp = ttu.train_test_by_users(df_preprocessed[df_preprocessed['user_id'].isin(hundred_users)])\n",
    "\n",
    "# create a test set from last sessions of users in the train set\n",
    "train_set_tmp, test_set_tmp = ttu.train_test_by_session_tmstp(w_df[w_df['user_id'].isin(train_set_nn_tmp['user_id'])])\n",
    "\n",
    "# for further tasks we need only 'user_id' and 'session_id' columns\n",
    "train_set_nn = snu.get_uniq_user_session(train_set_tmp)\n",
    "val_set_nn = snu.get_uniq_user_session(val_set_nn_tmp)\n",
    "test_set_nn = snu.get_uniq_user_session(test_set_tmp)\n",
    "\n",
    "\n",
    "print('Amount of unique sessions in the train set:', len(train_set_nn))\n",
    "print('Amount of unique users in the train set:', train_set_nn['user_id'].nunique())\n",
    "print()\n",
    "print('Amount of unique sessions in the validation set:', len(val_set_nn))\n",
    "print('Amount of unique users in the validation set:', val_set_nn['user_id'].nunique())"
   ]
  },
  {
   "cell_type": "code",
   "execution_count": 4,
   "metadata": {},
   "outputs": [
    {
     "name": "stdout",
     "output_type": "stream",
     "text": [
      "The ratio of negative pairs to positive:\n",
      "5.0\n"
     ]
    }
   ],
   "source": [
    "# - crate pairs with the ratio 5 negative to 1 positive\n",
    "df_pairs_train = snu.create_pairs_with_label(train_set_nn, neg_ratio=5)\n",
    "df_pairs_val = snu.create_pairs_with_label(val_set_nn, neg_ratio=5)\n",
    "\n",
    "# check\n",
    "# 0 - dissimilar, 1 - similar\n",
    "print('The ratio of negative pairs to positive:')\n",
    "print(len(df_pairs_train.query('label==0')) / len(df_pairs_train.query('label==1')))"
   ]
  },
  {
   "cell_type": "code",
   "execution_count": 5,
   "metadata": {},
   "outputs": [],
   "source": [
    "# - check euclidian distance on the preprocess data data (before embedding) --> define margin\n",
    "\n",
    "# Merge to get the features for the first sessions\n",
    "df_pairs_train_upd = df_pairs_train.merge(df_preprocessed, left_on='session_id_first', right_on ='session_id', suffixes=('', '_first'))\n",
    "\n",
    "# Merge to get the features for the second sessions\n",
    "df_pairs_train_upd = df_pairs_train_upd.merge(df_preprocessed, left_on='session_id_second', right_on='session_id', suffixes=('', '_second'))\n",
    "\n",
    "# Calculate Euclidean distance\n",
    "def calculate_distance(row):\n",
    "    # Collect features into arrays, assuming features are named consistently\n",
    "    features_first = row[7:97].values\n",
    "    features_second = row[99:].values\n",
    "    return distance.euclidean(features_first, features_second)\n",
    "\n",
    "# Apply the function to calculate distances\n",
    "df_pairs_train_upd['euc_distance'] = df_pairs_train_upd.apply(calculate_distance, axis=1)"
   ]
  },
  {
   "cell_type": "code",
   "execution_count": 6,
   "metadata": {},
   "outputs": [
    {
     "data": {
      "text/plain": [
       "count    118590.000000\n",
       "mean          2.201905\n",
       "std           0.700004\n",
       "min           0.000000\n",
       "25%           1.826895\n",
       "50%           2.415902\n",
       "75%           2.676537\n",
       "max           3.984238\n",
       "Name: euc_distance, dtype: float64"
      ]
     },
     "execution_count": 6,
     "metadata": {},
     "output_type": "execute_result"
    }
   ],
   "source": [
    "# distribution of distances for dissimilar pairs\n",
    "df_pairs_train_upd.query('label==0')['euc_distance'].describe()"
   ]
  },
  {
   "cell_type": "code",
   "execution_count": 7,
   "metadata": {},
   "outputs": [
    {
     "data": {
      "text/plain": [
       "count    23718.000000\n",
       "mean         1.273802\n",
       "std          0.690626\n",
       "min          0.000790\n",
       "25%          0.789697\n",
       "50%          1.132211\n",
       "75%          1.732210\n",
       "max          3.261510\n",
       "Name: euc_distance, dtype: float64"
      ]
     },
     "execution_count": 7,
     "metadata": {},
     "output_type": "execute_result"
    }
   ],
   "source": [
    "# distribution of distances for similar pairs\n",
    "df_pairs_train_upd.query('label==1')['euc_distance'].describe()"
   ]
  },
  {
   "cell_type": "code",
   "execution_count": 8,
   "metadata": {},
   "outputs": [
    {
     "data": {
      "text/plain": [
       "count    142308.000000\n",
       "mean          2.047221\n",
       "std           0.779400\n",
       "min           0.000000\n",
       "25%           1.384582\n",
       "50%           2.320493\n",
       "75%           2.628758\n",
       "max           3.984238\n",
       "Name: euc_distance, dtype: float64"
      ]
     },
     "execution_count": 8,
     "metadata": {},
     "output_type": "execute_result"
    }
   ],
   "source": [
    "df_pairs_train_upd['euc_distance'].describe()"
   ]
  },
  {
   "cell_type": "markdown",
   "metadata": {},
   "source": [
    "<h4>Dataset and dataloader for SNN with contrastive loss</h4>"
   ]
  },
  {
   "cell_type": "code",
   "execution_count": 9,
   "metadata": {},
   "outputs": [
    {
     "name": "stdout",
     "output_type": "stream",
     "text": [
      "Size of the train set: 142308\n",
      "Size of the validation set: 20148\n"
     ]
    }
   ],
   "source": [
    "# check custom dataset\n",
    "trainset = snu.Pairs_Dataset(df_pairs_train, df_preprocessed)\n",
    "valset = snu.Pairs_Dataset(df_pairs_val, df_preprocessed)\n",
    "\n",
    "print(f\"Size of the train set: {len(trainset)}\")\n",
    "print(f\"Size of the validation set: {len(valset)}\")"
   ]
  },
  {
   "cell_type": "code",
   "execution_count": 10,
   "metadata": {},
   "outputs": [
    {
     "name": "stdout",
     "output_type": "stream",
     "text": [
      "No. of batches in trainloader : 949\n",
      "No. of batches in validloader : 135\n"
     ]
    }
   ],
   "source": [
    "# Load Dataset into Batches\n",
    "BATCH_SIZE = 150\n",
    "\n",
    "trainloader = DataLoader(trainset, batch_size = BATCH_SIZE,shuffle = True)\n",
    "valloader = DataLoader(valset, batch_size = BATCH_SIZE)\n",
    "\n",
    "print(f\"No. of batches in trainloader : {len(trainloader)}\")\n",
    "print(f\"No. of batches in validloader : {len(valloader)}\")"
   ]
  },
  {
   "cell_type": "markdown",
   "metadata": {},
   "source": [
    "<h4>Dataset and dataloader for SNN with TripletMarginLoss</h4>"
   ]
  },
  {
   "cell_type": "code",
   "execution_count": 11,
   "metadata": {},
   "outputs": [],
   "source": [
    "# - crate triplets\n",
    "\n",
    "df_triplets_train = snu.create_triplets(train_set_nn)\n",
    "df_triplets_val = snu.create_triplets(val_set_nn)"
   ]
  },
  {
   "cell_type": "code",
   "execution_count": 12,
   "metadata": {},
   "outputs": [
    {
     "name": "stdout",
     "output_type": "stream",
     "text": [
      "Size of the trainset_triplets: 23718\n",
      "Size of the valset_triplets: 3358\n",
      "No. of batches in trainloader_triplets : 159\n",
      "No. of batches in valloader_triplets : 23\n"
     ]
    }
   ],
   "source": [
    "# check custom dataset\n",
    "trainset_triplets = snu.APN_Dataset(df_triplets_train, df_preprocessed)\n",
    "valset_triplets = snu.APN_Dataset(df_triplets_val, df_preprocessed)\n",
    "\n",
    "print(f\"Size of the trainset_triplets: {len(df_triplets_train)}\")\n",
    "print(f\"Size of the valset_triplets: {len(df_triplets_val)}\")\n",
    "\n",
    "# Load Dataset into Batches\n",
    "BATCH_SIZE = 150\n",
    "\n",
    "trainloader_triplets = DataLoader(trainset_triplets, batch_size = BATCH_SIZE,shuffle = True)\n",
    "valloader_triplets = DataLoader(valset_triplets, batch_size = BATCH_SIZE)\n",
    "\n",
    "print(f\"No. of batches in trainloader_triplets : {len(trainloader_triplets)}\")\n",
    "print(f\"No. of batches in valloader_triplets : {len(valloader_triplets)}\")"
   ]
  },
  {
   "cell_type": "markdown",
   "metadata": {},
   "source": [
    "<h3>Models</h3>"
   ]
  },
  {
   "cell_type": "code",
   "execution_count": 13,
   "metadata": {},
   "outputs": [
    {
     "data": {
      "text/plain": [
       "device(type='mps')"
      ]
     },
     "execution_count": 13,
     "metadata": {},
     "output_type": "execute_result"
    }
   ],
   "source": [
    "device = torch.device('mps' if torch.backends.mps.is_available() else torch.device('cuda' if torch.cuda.is_available() else 'cpu'))\n",
    "device"
   ]
  },
  {
   "cell_type": "markdown",
   "metadata": {},
   "source": [
    "<h3>Custom Tabular Model, pairs</h3>"
   ]
  },
  {
   "cell_type": "code",
   "execution_count": 14,
   "metadata": {},
   "outputs": [
    {
     "data": {
      "text/plain": [
       "TabularEmbeddingModel(\n",
       "  (fc1): Linear(in_features=90, out_features=64, bias=True)\n",
       "  (relu1): ReLU()\n",
       "  (fc2): Linear(in_features=64, out_features=32, bias=True)\n",
       "  (relu2): ReLU()\n",
       "  (fc3): Linear(in_features=32, out_features=16, bias=True)\n",
       ")"
      ]
     },
     "execution_count": 14,
     "metadata": {},
     "output_type": "execute_result"
    }
   ],
   "source": [
    "# define the model\n",
    "# Initialize the model\n",
    "input_features = 90  \n",
    "embedding_size = 16  \n",
    "model_tab_custom_pairs = snu.TabularEmbeddingModel(input_features, embedding_size)\n",
    "model_tab_custom_pairs.to(device)"
   ]
  },
  {
   "cell_type": "code",
   "execution_count": 15,
   "metadata": {},
   "outputs": [],
   "source": [
    "# parameters for training\n",
    "lr = 0.001\n",
    "l2_strength = 1e-07\n",
    "l1_strength = 0\n",
    "epochs = 50\n",
    "\n",
    "# margin a little bit bigger that 2.415351 - median margin for dissimilar pairs\n",
    "margin = 2.43\n",
    "\n",
    "# Optimizer               \n",
    "optimizer = optim.Adam(model_tab_custom_pairs.parameters(), lr=lr)\n",
    "\n",
    "\n",
    "criterion = snu.ContrastiveLoss(margin=margin)"
   ]
  },
  {
   "cell_type": "code",
   "execution_count": 16,
   "metadata": {},
   "outputs": [
    {
     "name": "stderr",
     "output_type": "stream",
     "text": [
      "100%|██████████| 949/949 [00:56<00:00, 16.80it/s]\n",
      "100%|██████████| 135/135 [00:07<00:00, 18.69it/s]\n",
      "100%|██████████| 949/949 [00:55<00:00, 17.23it/s]\n",
      "100%|██████████| 135/135 [00:07<00:00, 19.09it/s]\n",
      "100%|██████████| 949/949 [00:54<00:00, 17.52it/s]\n",
      "100%|██████████| 135/135 [00:07<00:00, 19.23it/s]\n",
      "100%|██████████| 949/949 [00:54<00:00, 17.52it/s]\n",
      "100%|██████████| 135/135 [00:07<00:00, 19.24it/s]\n",
      "100%|██████████| 949/949 [00:54<00:00, 17.57it/s]\n",
      "100%|██████████| 135/135 [00:07<00:00, 19.23it/s]\n",
      "100%|██████████| 949/949 [00:54<00:00, 17.57it/s]\n",
      "100%|██████████| 135/135 [00:07<00:00, 19.25it/s]\n",
      "100%|██████████| 949/949 [00:54<00:00, 17.54it/s]\n",
      "100%|██████████| 135/135 [00:07<00:00, 19.20it/s]\n",
      "100%|██████████| 949/949 [00:54<00:00, 17.55it/s]\n",
      "100%|██████████| 135/135 [00:06<00:00, 19.30it/s]\n",
      "100%|██████████| 949/949 [00:53<00:00, 17.59it/s]\n",
      "100%|██████████| 135/135 [00:07<00:00, 19.26it/s]\n",
      "100%|██████████| 949/949 [00:53<00:00, 17.59it/s]\n",
      "100%|██████████| 135/135 [00:07<00:00, 19.25it/s]\n",
      "100%|██████████| 949/949 [00:54<00:00, 17.55it/s]\n",
      "100%|██████████| 135/135 [00:07<00:00, 19.19it/s]\n",
      "100%|██████████| 949/949 [00:54<00:00, 17.57it/s]\n",
      "100%|██████████| 135/135 [00:07<00:00, 19.27it/s]\n",
      "100%|██████████| 949/949 [00:54<00:00, 17.57it/s]\n",
      "100%|██████████| 135/135 [00:07<00:00, 19.20it/s]\n",
      "100%|██████████| 949/949 [00:53<00:00, 17.58it/s]\n",
      "100%|██████████| 135/135 [00:07<00:00, 19.23it/s]\n",
      "100%|██████████| 949/949 [00:53<00:00, 17.61it/s]\n",
      "100%|██████████| 135/135 [00:07<00:00, 19.28it/s]\n",
      "100%|██████████| 949/949 [00:53<00:00, 17.62it/s]\n",
      "100%|██████████| 135/135 [00:06<00:00, 19.31it/s]\n",
      "100%|██████████| 949/949 [00:53<00:00, 17.61it/s]\n",
      "100%|██████████| 135/135 [00:07<00:00, 19.16it/s]\n",
      "100%|██████████| 949/949 [00:53<00:00, 17.63it/s]\n",
      "100%|██████████| 135/135 [00:07<00:00, 19.27it/s]\n",
      "100%|██████████| 949/949 [00:54<00:00, 17.52it/s]\n",
      "100%|██████████| 135/135 [00:07<00:00, 19.14it/s]\n",
      "100%|██████████| 949/949 [00:53<00:00, 17.62it/s]\n",
      "100%|██████████| 135/135 [00:07<00:00, 19.25it/s]\n",
      "100%|██████████| 949/949 [00:53<00:00, 17.61it/s]\n",
      "100%|██████████| 135/135 [00:07<00:00, 19.23it/s]\n",
      "100%|██████████| 949/949 [00:53<00:00, 17.63it/s]\n",
      "100%|██████████| 135/135 [00:07<00:00, 19.26it/s]\n",
      "100%|██████████| 949/949 [00:54<00:00, 17.57it/s]\n",
      "100%|██████████| 135/135 [00:07<00:00, 19.24it/s]\n",
      "100%|██████████| 949/949 [00:53<00:00, 17.59it/s]\n",
      "100%|██████████| 135/135 [00:07<00:00, 19.25it/s]\n",
      "100%|██████████| 949/949 [00:54<00:00, 17.57it/s]\n",
      "100%|██████████| 135/135 [00:07<00:00, 19.11it/s]\n",
      "100%|██████████| 949/949 [00:53<00:00, 17.60it/s]\n",
      "100%|██████████| 135/135 [00:07<00:00, 19.22it/s]\n",
      "100%|██████████| 949/949 [00:53<00:00, 17.60it/s]\n",
      "100%|██████████| 135/135 [00:07<00:00, 19.20it/s]\n",
      "100%|██████████| 949/949 [00:53<00:00, 17.62it/s]\n",
      "100%|██████████| 135/135 [00:06<00:00, 19.29it/s]\n",
      "100%|██████████| 949/949 [00:53<00:00, 17.61it/s]\n",
      "100%|██████████| 135/135 [00:06<00:00, 19.30it/s]\n",
      "100%|██████████| 949/949 [00:53<00:00, 17.59it/s]\n",
      "100%|██████████| 135/135 [00:07<00:00, 19.06it/s]\n",
      "100%|██████████| 949/949 [00:53<00:00, 17.60it/s]\n",
      "100%|██████████| 135/135 [00:07<00:00, 19.28it/s]\n",
      "100%|██████████| 949/949 [00:54<00:00, 17.54it/s]\n",
      "100%|██████████| 135/135 [00:07<00:00, 19.15it/s]\n",
      "100%|██████████| 949/949 [00:53<00:00, 17.57it/s]\n",
      "100%|██████████| 135/135 [00:06<00:00, 19.29it/s]\n",
      "100%|██████████| 949/949 [00:54<00:00, 17.57it/s]\n",
      "100%|██████████| 135/135 [00:07<00:00, 19.17it/s]\n",
      "100%|██████████| 949/949 [00:54<00:00, 17.56it/s]\n",
      "100%|██████████| 135/135 [00:07<00:00, 19.24it/s]\n",
      "100%|██████████| 949/949 [00:53<00:00, 17.58it/s]\n",
      "100%|██████████| 135/135 [00:07<00:00, 19.27it/s]\n",
      "100%|██████████| 949/949 [00:53<00:00, 17.58it/s]\n",
      "100%|██████████| 135/135 [00:07<00:00, 19.28it/s]\n",
      "100%|██████████| 949/949 [00:53<00:00, 17.58it/s]\n",
      "100%|██████████| 135/135 [00:07<00:00, 19.16it/s]\n",
      "100%|██████████| 949/949 [00:53<00:00, 17.60it/s]\n",
      "100%|██████████| 135/135 [00:07<00:00, 19.26it/s]\n",
      "100%|██████████| 949/949 [00:53<00:00, 17.61it/s]\n",
      "100%|██████████| 135/135 [00:07<00:00, 19.25it/s]\n",
      "100%|██████████| 949/949 [00:53<00:00, 17.61it/s]\n",
      "100%|██████████| 135/135 [00:06<00:00, 19.29it/s]\n",
      "100%|██████████| 949/949 [00:53<00:00, 17.58it/s]\n",
      "100%|██████████| 135/135 [00:06<00:00, 19.30it/s]\n",
      "100%|██████████| 949/949 [00:53<00:00, 17.63it/s]\n",
      "100%|██████████| 135/135 [00:07<00:00, 19.12it/s]\n",
      "100%|██████████| 949/949 [00:53<00:00, 17.62it/s]\n",
      "100%|██████████| 135/135 [00:07<00:00, 19.18it/s]\n",
      "100%|██████████| 949/949 [00:53<00:00, 17.60it/s]\n",
      "100%|██████████| 135/135 [00:07<00:00, 19.10it/s]\n",
      "100%|██████████| 949/949 [00:53<00:00, 17.59it/s]\n",
      "100%|██████████| 135/135 [00:07<00:00, 19.09it/s]\n",
      "100%|██████████| 949/949 [00:53<00:00, 17.61it/s]\n",
      "100%|██████████| 135/135 [00:07<00:00, 19.27it/s]\n",
      "100%|██████████| 949/949 [00:54<00:00, 17.46it/s]\n",
      "100%|██████████| 135/135 [00:07<00:00, 19.20it/s]\n",
      "100%|██████████| 949/949 [00:54<00:00, 17.52it/s]\n",
      "100%|██████████| 135/135 [00:07<00:00, 19.07it/s]\n",
      "100%|██████████| 949/949 [00:54<00:00, 17.55it/s]\n",
      "100%|██████████| 135/135 [00:07<00:00, 19.24it/s]\n"
     ]
    },
    {
     "name": "stdout",
     "output_type": "stream",
     "text": [
      "\n",
      "embedding_size: 16\n",
      "lr: 0.001\n",
      "l2_strength: 1e-07\n",
      "l1_strength: 0\n",
      "\n"
     ]
    },
    {
     "data": {
      "image/png": "[encoded data removed]",
      "text/plain": [
       "<Figure size 1000x500 with 1 Axes>"
      ]
     },
     "metadata": {},
     "output_type": "display_data"
    }
   ],
   "source": [
    "# first round of training\n",
    "# cm = custom model\n",
    "train_loss_list_cm_pairs,val_loss_list_cm_pairs =  snu.training_func(model_tab_custom_pairs, \n",
    "                                                   epochs, \n",
    "                                                   trainloader, \n",
    "                                                   valloader, \n",
    "                                                   lr=lr, \n",
    "                                                   l1_strength=l1_strength, \n",
    "                                                   l2_strength=l2_strength, \n",
    "                                                   optimizer=optimizer,\n",
    "                                                   criterion=criterion, \n",
    "                                                   device=device, \n",
    "                                                   pairs=True, \n",
    "                                                   tabnet=False, \n",
    "                                                   best_valid_loss=np.inf,\n",
    "                                                   train_loss_list=[], \n",
    "                                                   val_loss_list=[], \n",
    "                                                   save_res_to_file=True, \n",
    "                                                   plot_result = True)"
   ]
  },
  {
   "cell_type": "code",
   "execution_count": 37,
   "metadata": {},
   "outputs": [
    {
     "data": {
      "text/plain": [
       "TabularEmbeddingModel(\n",
       "  (fc1): Linear(in_features=90, out_features=64, bias=True)\n",
       "  (relu1): ReLU()\n",
       "  (fc2): Linear(in_features=64, out_features=32, bias=True)\n",
       "  (relu2): ReLU()\n",
       "  (fc3): Linear(in_features=32, out_features=16, bias=True)\n",
       ")"
      ]
     },
     "execution_count": 37,
     "metadata": {},
     "output_type": "execute_result"
    }
   ],
   "source": [
    "# define the model\n",
    "# Initialize the model\n",
    "input_features = 90  \n",
    "embedding_size = 16  \n",
    "model_tab_custom_pairs = snu.TabularEmbeddingModel(input_features, embedding_size)\n",
    "model_tab_custom_pairs.to(device)"
   ]
  },
  {
   "cell_type": "code",
   "execution_count": 38,
   "metadata": {},
   "outputs": [],
   "source": [
    "# parameters for training\n",
    "lr = 0.001\n",
    "l2_strength = 1e-07\n",
    "l1_strength = 0\n",
    "epochs = 50\n",
    "\n",
    "# margin a little bit bigger that 2.415351 - median margin for dissimilar pairs\n",
    "margin = 1.3\n",
    "\n",
    "# Optimizer               \n",
    "optimizer = optim.Adam(model_tab_custom_pairs.parameters(), lr=lr)\n",
    "\n",
    "\n",
    "criterion = snu.ContrastiveLoss(margin=margin)"
   ]
  },
  {
   "cell_type": "code",
   "execution_count": 39,
   "metadata": {},
   "outputs": [
    {
     "name": "stderr",
     "output_type": "stream",
     "text": [
      "100%|██████████| 949/949 [00:54<00:00, 17.32it/s]\n",
      "100%|██████████| 135/135 [00:07<00:00, 19.03it/s]\n",
      "100%|██████████| 949/949 [00:54<00:00, 17.37it/s]\n",
      "100%|██████████| 135/135 [00:07<00:00, 19.06it/s]\n",
      "100%|██████████| 949/949 [00:54<00:00, 17.34it/s]\n",
      "100%|██████████| 135/135 [00:07<00:00, 18.82it/s]\n",
      "100%|██████████| 949/949 [00:54<00:00, 17.35it/s]\n",
      "100%|██████████| 135/135 [00:07<00:00, 19.00it/s]\n",
      "100%|██████████| 949/949 [00:54<00:00, 17.41it/s]\n",
      "100%|██████████| 135/135 [00:07<00:00, 19.16it/s]\n",
      "100%|██████████| 949/949 [00:54<00:00, 17.40it/s]\n",
      "100%|██████████| 135/135 [00:07<00:00, 19.16it/s]\n",
      "100%|██████████| 949/949 [00:54<00:00, 17.43it/s]\n",
      "100%|██████████| 135/135 [00:07<00:00, 19.13it/s]\n",
      "100%|██████████| 949/949 [00:54<00:00, 17.43it/s]\n",
      "100%|██████████| 135/135 [00:07<00:00, 19.12it/s]\n",
      "100%|██████████| 949/949 [00:54<00:00, 17.42it/s]\n",
      "100%|██████████| 135/135 [00:07<00:00, 18.98it/s]\n",
      "100%|██████████| 949/949 [00:54<00:00, 17.42it/s]\n",
      "100%|██████████| 135/135 [00:07<00:00, 19.16it/s]\n",
      "100%|██████████| 949/949 [00:54<00:00, 17.43it/s]\n",
      "100%|██████████| 135/135 [00:07<00:00, 19.17it/s]\n",
      "100%|██████████| 949/949 [00:54<00:00, 17.42it/s]\n",
      "100%|██████████| 135/135 [00:07<00:00, 19.17it/s]\n",
      "100%|██████████| 949/949 [00:54<00:00, 17.42it/s]\n",
      "100%|██████████| 135/135 [00:07<00:00, 19.03it/s]\n",
      "100%|██████████| 949/949 [00:54<00:00, 17.39it/s]\n",
      "100%|██████████| 135/135 [00:07<00:00, 19.15it/s]\n",
      "100%|██████████| 949/949 [00:54<00:00, 17.42it/s]\n",
      "100%|██████████| 135/135 [00:07<00:00, 19.17it/s]\n",
      "100%|██████████| 949/949 [00:54<00:00, 17.39it/s]\n",
      "100%|██████████| 135/135 [00:07<00:00, 18.83it/s]\n",
      "100%|██████████| 949/949 [00:54<00:00, 17.46it/s]\n",
      "100%|██████████| 135/135 [00:07<00:00, 19.18it/s]\n",
      "100%|██████████| 949/949 [00:54<00:00, 17.42it/s]\n",
      "100%|██████████| 135/135 [00:07<00:00, 19.16it/s]\n",
      "100%|██████████| 949/949 [00:54<00:00, 17.40it/s]\n",
      "100%|██████████| 135/135 [00:07<00:00, 19.02it/s]\n",
      "100%|██████████| 949/949 [00:54<00:00, 17.44it/s]\n",
      "100%|██████████| 135/135 [00:07<00:00, 19.18it/s]\n",
      "100%|██████████| 949/949 [00:54<00:00, 17.36it/s]\n",
      "100%|██████████| 135/135 [00:07<00:00, 19.03it/s]\n",
      "100%|██████████| 949/949 [00:54<00:00, 17.45it/s]\n",
      "100%|██████████| 135/135 [00:07<00:00, 19.18it/s]\n",
      "100%|██████████| 949/949 [00:54<00:00, 17.39it/s]\n",
      "100%|██████████| 135/135 [00:07<00:00, 19.15it/s]\n",
      "100%|██████████| 949/949 [00:54<00:00, 17.38it/s]\n",
      "100%|██████████| 135/135 [00:07<00:00, 19.16it/s]\n",
      "100%|██████████| 949/949 [00:54<00:00, 17.47it/s]\n",
      "100%|██████████| 135/135 [00:07<00:00, 18.88it/s]\n",
      "100%|██████████| 949/949 [00:54<00:00, 17.28it/s]\n",
      "100%|██████████| 135/135 [00:07<00:00, 19.19it/s]\n",
      "100%|██████████| 949/949 [00:54<00:00, 17.43it/s]\n",
      "100%|██████████| 135/135 [00:07<00:00, 19.17it/s]\n",
      "100%|██████████| 949/949 [00:54<00:00, 17.45it/s]\n",
      "100%|██████████| 135/135 [00:07<00:00, 18.91it/s]\n",
      "100%|██████████| 949/949 [00:54<00:00, 17.41it/s]\n",
      "100%|██████████| 135/135 [00:07<00:00, 19.17it/s]\n",
      "100%|██████████| 949/949 [00:54<00:00, 17.42it/s]\n",
      "100%|██████████| 135/135 [00:07<00:00, 19.17it/s]\n",
      "100%|██████████| 949/949 [00:54<00:00, 17.47it/s]\n",
      "100%|██████████| 135/135 [00:07<00:00, 19.20it/s]\n",
      "100%|██████████| 949/949 [00:54<00:00, 17.41it/s]\n",
      "100%|██████████| 135/135 [00:07<00:00, 19.17it/s]\n",
      "100%|██████████| 949/949 [00:54<00:00, 17.45it/s]\n",
      "100%|██████████| 135/135 [00:07<00:00, 19.09it/s]\n",
      "100%|██████████| 949/949 [00:54<00:00, 17.45it/s]\n",
      "100%|██████████| 135/135 [00:07<00:00, 19.17it/s]\n",
      "100%|██████████| 949/949 [00:54<00:00, 17.43it/s]\n",
      "100%|██████████| 135/135 [00:07<00:00, 19.16it/s]\n",
      "100%|██████████| 949/949 [00:54<00:00, 17.49it/s]\n",
      "100%|██████████| 135/135 [00:07<00:00, 19.10it/s]\n",
      "100%|██████████| 949/949 [00:54<00:00, 17.50it/s]\n",
      "100%|██████████| 135/135 [00:07<00:00, 19.08it/s]\n",
      "100%|██████████| 949/949 [00:54<00:00, 17.46it/s]\n",
      "100%|██████████| 135/135 [00:07<00:00, 19.15it/s]\n",
      "100%|██████████| 949/949 [00:54<00:00, 17.40it/s]\n",
      "100%|██████████| 135/135 [00:07<00:00, 19.17it/s]\n",
      "100%|██████████| 949/949 [00:54<00:00, 17.40it/s]\n",
      "100%|██████████| 135/135 [00:07<00:00, 19.07it/s]\n",
      "100%|██████████| 949/949 [00:54<00:00, 17.39it/s]\n",
      "100%|██████████| 135/135 [00:07<00:00, 18.98it/s]\n",
      "100%|██████████| 949/949 [00:54<00:00, 17.35it/s]\n",
      "100%|██████████| 135/135 [00:07<00:00, 19.08it/s]\n",
      "100%|██████████| 949/949 [00:54<00:00, 17.34it/s]\n",
      "100%|██████████| 135/135 [00:07<00:00, 19.11it/s]\n",
      "100%|██████████| 949/949 [00:54<00:00, 17.34it/s]\n",
      "100%|██████████| 135/135 [00:07<00:00, 19.10it/s]\n",
      "100%|██████████| 949/949 [00:54<00:00, 17.35it/s]\n",
      "100%|██████████| 135/135 [00:07<00:00, 19.09it/s]\n",
      "100%|██████████| 949/949 [00:54<00:00, 17.34it/s]\n",
      "100%|██████████| 135/135 [00:07<00:00, 19.14it/s]\n",
      "100%|██████████| 949/949 [00:54<00:00, 17.36it/s]\n",
      "100%|██████████| 135/135 [00:07<00:00, 18.98it/s]\n",
      "100%|██████████| 949/949 [00:54<00:00, 17.39it/s]\n",
      "100%|██████████| 135/135 [00:07<00:00, 18.99it/s]\n",
      "100%|██████████| 949/949 [00:54<00:00, 17.39it/s]\n",
      "100%|██████████| 135/135 [00:07<00:00, 18.96it/s]\n",
      "100%|██████████| 949/949 [00:54<00:00, 17.39it/s]\n",
      "100%|██████████| 135/135 [00:07<00:00, 19.10it/s]"
     ]
    },
    {
     "name": "stdout",
     "output_type": "stream",
     "text": [
      "\n",
      "embedding_size: 16\n",
      "lr: 0.001\n",
      "l2_strength: 1e-07\n",
      "l1_strength: 0\n",
      "\n"
     ]
    },
    {
     "name": "stderr",
     "output_type": "stream",
     "text": [
      "\n"
     ]
    },
    {
     "data": {
      "image/png": "[encoded data removed]",
      "text/plain": [
       "<Figure size 1000x500 with 1 Axes>"
      ]
     },
     "metadata": {},
     "output_type": "display_data"
    }
   ],
   "source": [
    "# first round of training\n",
    "# cm = custom model\n",
    "train_loss_list_cm_pairs,val_loss_list_cm_pairs =  snu.training_func(model_tab_custom_pairs, \n",
    "                                                   epochs, \n",
    "                                                   trainloader, \n",
    "                                                   valloader, \n",
    "                                                   lr=lr, \n",
    "                                                   l1_strength=l1_strength, \n",
    "                                                   l2_strength=l2_strength, \n",
    "                                                   optimizer=optimizer,\n",
    "                                                   criterion=criterion, \n",
    "                                                   device=device, \n",
    "                                                   pairs=True, \n",
    "                                                   tabnet=False, \n",
    "                                                   best_valid_loss=np.inf,\n",
    "                                                   train_loss_list=[], \n",
    "                                                   val_loss_list=[], \n",
    "                                                   save_res_to_file=True, \n",
    "                                                   plot_result = True)"
   ]
  },
  {
   "cell_type": "markdown",
   "metadata": {},
   "source": [
    "<h3>TabNet Model, pairs</h3>"
   ]
  },
  {
   "cell_type": "code",
   "execution_count": 17,
   "metadata": {},
   "outputs": [],
   "source": [
    "# define the model\n",
    "# Initialize the model\n",
    "input_features = 90  \n",
    "embedding_size = 16  \n",
    "model_tbnet_pairs = snu.TabNetEmbeddingModel(input_features, embedding_size)\n",
    "model_tbnet_pairs.to(device)\n",
    "\n",
    "# Ensure group attention matrix is also on GPU\n",
    "if hasattr(model_tbnet_pairs.tabnet.encoder, 'group_attention_matrix'):\n",
    "    model_tbnet_pairs.tabnet.encoder.group_attention_matrix = model_tbnet_pairs.tabnet.encoder.group_attention_matrix.to(device)"
   ]
  },
  {
   "cell_type": "code",
   "execution_count": 18,
   "metadata": {},
   "outputs": [],
   "source": [
    "# parameters for training\n",
    "lr = 0.001\n",
    "l2_strength = 1e-05\n",
    "l1_strength = 1e-07\n",
    "epochs = 50\n",
    "\n",
    "# margin a little bit bigger that 2.415351 - median margin for dissimilar pairs\n",
    "margin = 2.43\n",
    "\n",
    "# Optimizer               \n",
    "optimizer = optim.Adam(model_tbnet_pairs.parameters(), lr=lr)\n",
    "\n",
    "\n",
    "criterion = snu.ContrastiveLoss(margin=margin)"
   ]
  },
  {
   "cell_type": "code",
   "execution_count": 19,
   "metadata": {},
   "outputs": [
    {
     "name": "stderr",
     "output_type": "stream",
     "text": [
      "100%|██████████| 949/949 [02:18<00:00,  6.84it/s]\n",
      "100%|██████████| 135/135 [00:10<00:00, 12.93it/s]\n",
      "100%|██████████| 949/949 [02:19<00:00,  6.78it/s]\n",
      "100%|██████████| 135/135 [00:10<00:00, 12.84it/s]\n",
      "100%|██████████| 949/949 [02:19<00:00,  6.79it/s]\n",
      "100%|██████████| 135/135 [00:10<00:00, 12.80it/s]\n",
      "100%|██████████| 949/949 [02:20<00:00,  6.78it/s]\n",
      "100%|██████████| 135/135 [00:10<00:00, 12.87it/s]\n",
      "100%|██████████| 949/949 [02:19<00:00,  6.78it/s]\n",
      "100%|██████████| 135/135 [00:10<00:00, 12.87it/s]\n",
      "100%|██████████| 949/949 [02:19<00:00,  6.80it/s]\n",
      "100%|██████████| 135/135 [00:10<00:00, 12.90it/s]\n",
      "100%|██████████| 949/949 [02:19<00:00,  6.82it/s]\n",
      "100%|██████████| 135/135 [00:10<00:00, 12.89it/s]\n",
      "100%|██████████| 949/949 [02:19<00:00,  6.79it/s]\n",
      "100%|██████████| 135/135 [00:10<00:00, 12.90it/s]\n",
      "100%|██████████| 949/949 [02:19<00:00,  6.78it/s]\n",
      "100%|██████████| 135/135 [00:10<00:00, 12.90it/s]\n",
      "100%|██████████| 949/949 [02:19<00:00,  6.79it/s]\n",
      "100%|██████████| 135/135 [00:10<00:00, 12.86it/s]\n",
      "100%|██████████| 949/949 [02:19<00:00,  6.80it/s]\n",
      "100%|██████████| 135/135 [00:10<00:00, 12.79it/s]\n",
      "100%|██████████| 949/949 [02:19<00:00,  6.83it/s]\n",
      "100%|██████████| 135/135 [00:10<00:00, 12.84it/s]\n",
      "100%|██████████| 949/949 [02:19<00:00,  6.82it/s]\n",
      "100%|██████████| 135/135 [00:10<00:00, 12.90it/s]\n",
      "100%|██████████| 949/949 [02:19<00:00,  6.82it/s]\n",
      "100%|██████████| 135/135 [00:10<00:00, 12.86it/s]\n",
      "100%|██████████| 949/949 [02:18<00:00,  6.83it/s]\n",
      "100%|██████████| 135/135 [00:10<00:00, 12.85it/s]\n",
      "100%|██████████| 949/949 [02:19<00:00,  6.79it/s]\n",
      "100%|██████████| 135/135 [00:10<00:00, 12.87it/s]\n",
      "100%|██████████| 949/949 [02:19<00:00,  6.79it/s]\n",
      "100%|██████████| 135/135 [00:10<00:00, 12.75it/s]\n",
      "100%|██████████| 949/949 [02:19<00:00,  6.81it/s]\n",
      "100%|██████████| 135/135 [00:10<00:00, 12.85it/s]\n",
      "100%|██████████| 949/949 [02:18<00:00,  6.83it/s]\n",
      "100%|██████████| 135/135 [00:10<00:00, 12.82it/s]\n",
      "100%|██████████| 949/949 [02:18<00:00,  6.84it/s]\n",
      "100%|██████████| 135/135 [00:10<00:00, 12.90it/s]\n",
      "100%|██████████| 949/949 [02:18<00:00,  6.83it/s]\n",
      "100%|██████████| 135/135 [00:10<00:00, 12.96it/s]\n",
      "100%|██████████| 949/949 [02:18<00:00,  6.86it/s]\n",
      "100%|██████████| 135/135 [00:10<00:00, 12.84it/s]\n",
      "100%|██████████| 949/949 [02:18<00:00,  6.85it/s]\n",
      "100%|██████████| 135/135 [00:10<00:00, 12.88it/s]\n",
      "100%|██████████| 949/949 [02:18<00:00,  6.87it/s]\n",
      "100%|██████████| 135/135 [00:10<00:00, 12.87it/s]\n",
      "100%|██████████| 949/949 [02:18<00:00,  6.86it/s]\n",
      "100%|██████████| 135/135 [00:10<00:00, 12.79it/s]\n",
      "100%|██████████| 949/949 [02:18<00:00,  6.83it/s]\n",
      "100%|██████████| 135/135 [00:10<00:00, 12.47it/s]\n",
      "100%|██████████| 949/949 [02:19<00:00,  6.81it/s]\n",
      "100%|██████████| 135/135 [00:10<00:00, 12.94it/s]\n",
      "100%|██████████| 949/949 [02:18<00:00,  6.84it/s]\n",
      "100%|██████████| 135/135 [00:10<00:00, 12.79it/s]\n",
      "100%|██████████| 949/949 [02:19<00:00,  6.82it/s]\n",
      "100%|██████████| 135/135 [00:10<00:00, 12.89it/s]\n",
      "100%|██████████| 949/949 [02:18<00:00,  6.83it/s]\n",
      "100%|██████████| 135/135 [00:10<00:00, 12.82it/s]\n",
      "100%|██████████| 949/949 [02:18<00:00,  6.87it/s]\n",
      "100%|██████████| 135/135 [00:10<00:00, 12.81it/s]\n",
      "100%|██████████| 949/949 [02:18<00:00,  6.86it/s]\n",
      "100%|██████████| 135/135 [00:10<00:00, 12.92it/s]\n",
      "100%|██████████| 949/949 [02:18<00:00,  6.85it/s]\n",
      "100%|██████████| 135/135 [00:10<00:00, 12.90it/s]\n",
      "100%|██████████| 949/949 [02:18<00:00,  6.85it/s]\n",
      "100%|██████████| 135/135 [00:10<00:00, 12.90it/s]\n",
      "100%|██████████| 949/949 [02:18<00:00,  6.85it/s]\n",
      "100%|██████████| 135/135 [00:10<00:00, 12.87it/s]\n",
      "100%|██████████| 949/949 [02:18<00:00,  6.85it/s]\n",
      "100%|██████████| 135/135 [00:10<00:00, 12.89it/s]\n",
      "100%|██████████| 949/949 [02:18<00:00,  6.87it/s]\n",
      "100%|██████████| 135/135 [00:10<00:00, 12.84it/s]\n",
      "100%|██████████| 949/949 [02:18<00:00,  6.85it/s]\n",
      "100%|██████████| 135/135 [00:10<00:00, 12.85it/s]\n",
      "100%|██████████| 949/949 [02:18<00:00,  6.85it/s]\n",
      "100%|██████████| 135/135 [00:10<00:00, 12.94it/s]\n",
      "100%|██████████| 949/949 [02:18<00:00,  6.88it/s]\n",
      "100%|██████████| 135/135 [00:10<00:00, 12.87it/s]\n",
      "100%|██████████| 949/949 [02:18<00:00,  6.85it/s]\n",
      "100%|██████████| 135/135 [00:10<00:00, 12.80it/s]\n",
      "100%|██████████| 949/949 [02:18<00:00,  6.85it/s]\n",
      "100%|██████████| 135/135 [00:10<00:00, 12.94it/s]\n",
      "100%|██████████| 949/949 [02:18<00:00,  6.86it/s]\n",
      "100%|██████████| 135/135 [00:10<00:00, 12.88it/s]\n",
      "100%|██████████| 949/949 [02:20<00:00,  6.78it/s]\n",
      "100%|██████████| 135/135 [00:10<00:00, 12.85it/s]\n",
      "100%|██████████| 949/949 [02:18<00:00,  6.83it/s]\n",
      "100%|██████████| 135/135 [00:10<00:00, 12.83it/s]\n",
      "100%|██████████| 949/949 [02:18<00:00,  6.84it/s]\n",
      "100%|██████████| 135/135 [00:10<00:00, 12.85it/s]\n",
      "100%|██████████| 949/949 [02:18<00:00,  6.84it/s]\n",
      "100%|██████████| 135/135 [00:10<00:00, 12.86it/s]\n",
      "100%|██████████| 949/949 [02:19<00:00,  6.83it/s]\n",
      "100%|██████████| 135/135 [00:10<00:00, 12.89it/s]\n",
      "100%|██████████| 949/949 [02:19<00:00,  6.82it/s]\n",
      "100%|██████████| 135/135 [00:10<00:00, 12.59it/s]\n",
      "100%|██████████| 949/949 [02:19<00:00,  6.81it/s]\n",
      "100%|██████████| 135/135 [00:10<00:00, 12.90it/s]"
     ]
    },
    {
     "name": "stdout",
     "output_type": "stream",
     "text": [
      "\n",
      "embedding_size: 16\n",
      "lr: 0.001\n",
      "l2_strength: 1e-05\n",
      "l1_strength: 1e-07\n",
      "\n"
     ]
    },
    {
     "name": "stderr",
     "output_type": "stream",
     "text": [
      "\n"
     ]
    },
    {
     "data": {
      "image/png": "[encoded data removed]",
      "text/plain": [
       "<Figure size 1000x500 with 1 Axes>"
      ]
     },
     "metadata": {},
     "output_type": "display_data"
    }
   ],
   "source": [
    "# first round of training\n",
    "train_loss_list_tabnet_pairs,val_loss_list_tabnet_pairs =  snu.training_func(\n",
    "                                                    model_tbnet_pairs, \n",
    "                                                   epochs, \n",
    "                                                   trainloader, \n",
    "                                                   valloader, \n",
    "                                                   lr=lr, \n",
    "                                                   l1_strength=l1_strength, \n",
    "                                                   l2_strength=l2_strength, \n",
    "                                                   optimizer=optimizer,\n",
    "                                                   criterion=criterion, \n",
    "                                                   device=device, \n",
    "                                                   pairs=True, \n",
    "                                                   tabnet=True, \n",
    "                                                   best_valid_loss=np.inf,\n",
    "                                                   train_loss_list=[], \n",
    "                                                   val_loss_list=[], \n",
    "                                                   save_res_to_file=True, \n",
    "                                                   plot_result = True)"
   ]
  },
  {
   "cell_type": "code",
   "execution_count": 28,
   "metadata": {},
   "outputs": [],
   "source": [
    "# define the model\n",
    "# Initialize the model\n",
    "input_features = 90  \n",
    "embedding_size = 16  \n",
    "model_tbnet_pairs = snu.TabNetEmbeddingModel(input_features, embedding_size)\n",
    "model_tbnet_pairs.to(device)\n",
    "\n",
    "# Ensure group attention matrix is also on GPU\n",
    "if hasattr(model_tbnet_pairs.tabnet.encoder, 'group_attention_matrix'):\n",
    "    model_tbnet_pairs.tabnet.encoder.group_attention_matrix = model_tbnet_pairs.tabnet.encoder.group_attention_matrix.to(device)\n"
   ]
  },
  {
   "cell_type": "code",
   "execution_count": 29,
   "metadata": {},
   "outputs": [],
   "source": [
    "# parameters for training\n",
    "lr = 0.001\n",
    "l2_strength = 1e-05\n",
    "l1_strength = 1e-07\n",
    "epochs = 50\n",
    "\n",
    "# margin a little bit bigger that 2.415351 - median margin for dissimilar pairs\n",
    "margin = 1.3\n",
    "\n",
    "# Optimizer               \n",
    "optimizer = optim.Adam(model_tbnet_pairs.parameters(), lr=lr)\n",
    "\n",
    "\n",
    "criterion = snu.ContrastiveLoss(margin=margin)"
   ]
  },
  {
   "cell_type": "code",
   "execution_count": 30,
   "metadata": {},
   "outputs": [
    {
     "name": "stderr",
     "output_type": "stream",
     "text": [
      "100%|██████████| 949/949 [02:19<00:00,  6.81it/s]\n",
      "100%|██████████| 135/135 [00:10<00:00, 12.85it/s]\n",
      "100%|██████████| 949/949 [02:22<00:00,  6.65it/s]\n",
      "100%|██████████| 135/135 [00:10<00:00, 12.67it/s]\n",
      "100%|██████████| 949/949 [02:23<00:00,  6.60it/s]\n",
      "100%|██████████| 135/135 [00:10<00:00, 12.69it/s]\n",
      "100%|██████████| 949/949 [02:23<00:00,  6.62it/s]\n",
      "100%|██████████| 135/135 [00:10<00:00, 12.77it/s]\n",
      "100%|██████████| 949/949 [02:21<00:00,  6.70it/s]\n",
      "100%|██████████| 135/135 [00:10<00:00, 12.77it/s]\n",
      "100%|██████████| 949/949 [02:27<00:00,  6.41it/s]\n",
      "100%|██████████| 135/135 [00:11<00:00, 12.11it/s]\n",
      "100%|██████████| 949/949 [02:32<00:00,  6.24it/s]\n",
      "100%|██████████| 135/135 [00:10<00:00, 12.57it/s]\n",
      "100%|██████████| 949/949 [02:28<00:00,  6.38it/s]\n",
      "100%|██████████| 135/135 [00:10<00:00, 12.35it/s]\n",
      "100%|██████████| 949/949 [02:21<00:00,  6.68it/s]\n",
      "100%|██████████| 135/135 [00:10<00:00, 12.65it/s]\n",
      "100%|██████████| 949/949 [02:20<00:00,  6.75it/s]\n",
      "100%|██████████| 135/135 [00:10<00:00, 12.72it/s]\n",
      "100%|██████████| 949/949 [02:20<00:00,  6.77it/s]\n",
      "100%|██████████| 135/135 [00:10<00:00, 12.83it/s]\n",
      "100%|██████████| 949/949 [02:19<00:00,  6.80it/s]\n",
      "100%|██████████| 135/135 [00:10<00:00, 12.82it/s]\n",
      "100%|██████████| 949/949 [02:19<00:00,  6.80it/s]\n",
      "100%|██████████| 135/135 [00:10<00:00, 12.86it/s]\n",
      "100%|██████████| 949/949 [02:19<00:00,  6.79it/s]\n",
      "100%|██████████| 135/135 [00:10<00:00, 12.92it/s]\n",
      "100%|██████████| 949/949 [02:19<00:00,  6.80it/s]\n",
      "100%|██████████| 135/135 [00:10<00:00, 12.90it/s]\n",
      "100%|██████████| 949/949 [02:19<00:00,  6.81it/s]\n",
      "100%|██████████| 135/135 [00:10<00:00, 12.84it/s]\n",
      "100%|██████████| 949/949 [02:19<00:00,  6.80it/s]\n",
      "100%|██████████| 135/135 [00:10<00:00, 12.93it/s]\n",
      "100%|██████████| 949/949 [02:19<00:00,  6.80it/s]\n",
      "100%|██████████| 135/135 [00:10<00:00, 12.91it/s]\n",
      "100%|██████████| 949/949 [02:19<00:00,  6.81it/s]\n",
      "100%|██████████| 135/135 [00:10<00:00, 12.91it/s]\n",
      "100%|██████████| 949/949 [02:19<00:00,  6.80it/s]\n",
      "100%|██████████| 135/135 [00:10<00:00, 12.89it/s]\n",
      "100%|██████████| 949/949 [02:19<00:00,  6.80it/s]\n",
      "100%|██████████| 135/135 [00:10<00:00, 12.90it/s]\n",
      "100%|██████████| 949/949 [02:19<00:00,  6.78it/s]\n",
      "100%|██████████| 135/135 [00:10<00:00, 12.79it/s]\n",
      "100%|██████████| 949/949 [02:20<00:00,  6.75it/s]\n",
      "100%|██████████| 135/135 [00:10<00:00, 12.89it/s]\n",
      "100%|██████████| 949/949 [02:19<00:00,  6.79it/s]\n",
      "100%|██████████| 135/135 [00:10<00:00, 12.91it/s]\n",
      "100%|██████████| 949/949 [02:19<00:00,  6.80it/s]\n",
      "100%|██████████| 135/135 [00:10<00:00, 12.78it/s]\n",
      "100%|██████████| 949/949 [02:19<00:00,  6.82it/s]\n",
      "100%|██████████| 135/135 [00:10<00:00, 12.91it/s]\n",
      "100%|██████████| 949/949 [02:19<00:00,  6.79it/s]\n",
      "100%|██████████| 135/135 [00:10<00:00, 12.83it/s]\n",
      "100%|██████████| 949/949 [02:19<00:00,  6.80it/s]\n",
      "100%|██████████| 135/135 [00:10<00:00, 12.79it/s]\n",
      "100%|██████████| 949/949 [02:19<00:00,  6.79it/s]\n",
      "100%|██████████| 135/135 [00:10<00:00, 12.88it/s]\n",
      "100%|██████████| 949/949 [02:19<00:00,  6.80it/s]\n",
      "100%|██████████| 135/135 [00:10<00:00, 12.88it/s]\n",
      "100%|██████████| 949/949 [02:19<00:00,  6.82it/s]\n",
      "100%|██████████| 135/135 [00:10<00:00, 12.82it/s]\n",
      "100%|██████████| 949/949 [02:19<00:00,  6.81it/s]\n",
      "100%|██████████| 135/135 [00:10<00:00, 12.81it/s]\n",
      "100%|██████████| 949/949 [02:18<00:00,  6.86it/s]\n",
      "100%|██████████| 135/135 [00:10<00:00, 12.80it/s]\n",
      "100%|██████████| 949/949 [02:18<00:00,  6.83it/s]\n",
      "100%|██████████| 135/135 [00:10<00:00, 12.77it/s]\n",
      "100%|██████████| 949/949 [02:19<00:00,  6.78it/s]\n",
      "100%|██████████| 135/135 [00:10<00:00, 12.79it/s]\n",
      "100%|██████████| 949/949 [02:20<00:00,  6.76it/s]\n",
      "100%|██████████| 135/135 [00:10<00:00, 12.75it/s]\n",
      "100%|██████████| 949/949 [02:21<00:00,  6.73it/s]\n",
      "100%|██████████| 135/135 [00:10<00:00, 12.82it/s]\n",
      "100%|██████████| 949/949 [02:19<00:00,  6.80it/s]\n",
      "100%|██████████| 135/135 [00:10<00:00, 12.85it/s]\n",
      "100%|██████████| 949/949 [02:19<00:00,  6.78it/s]\n",
      "100%|██████████| 135/135 [00:10<00:00, 12.83it/s]\n",
      "100%|██████████| 949/949 [02:20<00:00,  6.78it/s]\n",
      "100%|██████████| 135/135 [00:10<00:00, 12.74it/s]\n",
      "100%|██████████| 949/949 [02:19<00:00,  6.78it/s]\n",
      "100%|██████████| 135/135 [00:10<00:00, 12.82it/s]\n",
      "100%|██████████| 949/949 [02:20<00:00,  6.77it/s]\n",
      "100%|██████████| 135/135 [00:10<00:00, 12.89it/s]\n",
      "100%|██████████| 949/949 [02:19<00:00,  6.78it/s]\n",
      "100%|██████████| 135/135 [00:10<00:00, 12.76it/s]\n",
      "100%|██████████| 949/949 [02:20<00:00,  6.77it/s]\n",
      "100%|██████████| 135/135 [00:10<00:00, 12.83it/s]\n",
      "100%|██████████| 949/949 [02:20<00:00,  6.78it/s]\n",
      "100%|██████████| 135/135 [00:10<00:00, 12.73it/s]\n",
      "100%|██████████| 949/949 [02:19<00:00,  6.78it/s]\n",
      "100%|██████████| 135/135 [00:10<00:00, 12.81it/s]\n",
      "100%|██████████| 949/949 [02:19<00:00,  6.78it/s]\n",
      "100%|██████████| 135/135 [00:10<00:00, 12.80it/s]\n",
      "100%|██████████| 949/949 [02:19<00:00,  6.79it/s]\n",
      "100%|██████████| 135/135 [00:10<00:00, 12.77it/s]\n",
      "100%|██████████| 949/949 [02:20<00:00,  6.77it/s]\n",
      "100%|██████████| 135/135 [00:10<00:00, 12.77it/s]\n",
      "100%|██████████| 949/949 [02:20<00:00,  6.76it/s]\n",
      "100%|██████████| 135/135 [00:10<00:00, 12.84it/s]\n"
     ]
    },
    {
     "name": "stdout",
     "output_type": "stream",
     "text": [
      "\n",
      "embedding_size: 16\n",
      "lr: 0.001\n",
      "l2_strength: 1e-05\n",
      "l1_strength: 1e-07\n",
      "\n"
     ]
    },
    {
     "data": {
      "image/png": "[encoded data removed]",
      "text/plain": [
       "<Figure size 1000x500 with 1 Axes>"
      ]
     },
     "metadata": {},
     "output_type": "display_data"
    }
   ],
   "source": [
    "# first round of training\n",
    "train_loss_list_tabnet_pairs,val_loss_list_tabnet_pairs =  snu.training_func(\n",
    "                                                    model_tbnet_pairs, \n",
    "                                                   epochs, \n",
    "                                                   trainloader, \n",
    "                                                   valloader, \n",
    "                                                   lr=lr, \n",
    "                                                   l1_strength=l1_strength, \n",
    "                                                   l2_strength=l2_strength, \n",
    "                                                   optimizer=optimizer,\n",
    "                                                   criterion=criterion, \n",
    "                                                   device=device, \n",
    "                                                   pairs=True, \n",
    "                                                   tabnet=True, \n",
    "                                                   best_valid_loss=np.inf,\n",
    "                                                   train_loss_list=[], \n",
    "                                                   val_loss_list=[], \n",
    "                                                   save_res_to_file=True, \n",
    "                                                   plot_result = True)"
   ]
  },
  {
   "cell_type": "markdown",
   "metadata": {},
   "source": [
    "<h3>Custom Tabular Model, triplets</h3>"
   ]
  },
  {
   "cell_type": "code",
   "execution_count": 20,
   "metadata": {},
   "outputs": [
    {
     "data": {
      "text/plain": [
       "TabularEmbeddingModel(\n",
       "  (fc1): Linear(in_features=90, out_features=64, bias=True)\n",
       "  (relu1): ReLU()\n",
       "  (fc2): Linear(in_features=64, out_features=32, bias=True)\n",
       "  (relu2): ReLU()\n",
       "  (fc3): Linear(in_features=32, out_features=16, bias=True)\n",
       ")"
      ]
     },
     "execution_count": 20,
     "metadata": {},
     "output_type": "execute_result"
    }
   ],
   "source": [
    "# define the model\n",
    "# Initialize the model\n",
    "input_features = 90  \n",
    "embedding_size = 16  \n",
    "model_tab_custom_triplets = snu.TabularEmbeddingModel(input_features, embedding_size)\n",
    "model_tab_custom_triplets.to(device)"
   ]
  },
  {
   "cell_type": "code",
   "execution_count": 21,
   "metadata": {},
   "outputs": [],
   "source": [
    "# parameters for training\n",
    "lr = 0.001\n",
    "l2_strength = 1e-05\n",
    "l1_strength = 1e-07\n",
    "epochs = 50\n",
    "\n",
    "# margin a little bit bigger that 2.415351 - median margin for dissimilar pairs\n",
    "margin = 2.43\n",
    "\n",
    "# Optimizer               \n",
    "optimizer = optim.Adam(model_tab_custom_triplets.parameters(), lr=lr)\n",
    "\n",
    "\n",
    "criterion = nn.TripletMarginLoss(margin=margin)"
   ]
  },
  {
   "cell_type": "code",
   "execution_count": 22,
   "metadata": {},
   "outputs": [
    {
     "name": "stderr",
     "output_type": "stream",
     "text": [
      "100%|██████████| 159/159 [00:13<00:00, 12.10it/s]\n",
      "100%|██████████| 23/23 [00:01<00:00, 13.54it/s]\n",
      "100%|██████████| 159/159 [00:13<00:00, 12.09it/s]\n",
      "100%|██████████| 23/23 [00:01<00:00, 13.65it/s]\n",
      "100%|██████████| 159/159 [00:12<00:00, 12.32it/s]\n",
      "100%|██████████| 23/23 [00:01<00:00, 13.71it/s]\n",
      "100%|██████████| 159/159 [00:12<00:00, 12.39it/s]\n",
      "100%|██████████| 23/23 [00:01<00:00, 13.69it/s]\n",
      "100%|██████████| 159/159 [00:12<00:00, 12.42it/s]\n",
      "100%|██████████| 23/23 [00:01<00:00, 13.69it/s]\n",
      "100%|██████████| 159/159 [00:12<00:00, 12.40it/s]\n",
      "100%|██████████| 23/23 [00:01<00:00, 13.71it/s]\n",
      "100%|██████████| 159/159 [00:12<00:00, 12.42it/s]\n",
      "100%|██████████| 23/23 [00:01<00:00, 13.68it/s]\n",
      "100%|██████████| 159/159 [00:12<00:00, 12.36it/s]\n",
      "100%|██████████| 23/23 [00:01<00:00, 13.72it/s]\n",
      "100%|██████████| 159/159 [00:12<00:00, 12.39it/s]\n",
      "100%|██████████| 23/23 [00:01<00:00, 13.73it/s]\n",
      "100%|██████████| 159/159 [00:12<00:00, 12.27it/s]\n",
      "100%|██████████| 23/23 [00:01<00:00, 13.69it/s]\n",
      "100%|██████████| 159/159 [00:12<00:00, 12.36it/s]\n",
      "100%|██████████| 23/23 [00:01<00:00, 13.72it/s]\n",
      "100%|██████████| 159/159 [00:12<00:00, 12.42it/s]\n",
      "100%|██████████| 23/23 [00:01<00:00, 13.68it/s]\n",
      "100%|██████████| 159/159 [00:12<00:00, 12.42it/s]\n",
      "100%|██████████| 23/23 [00:01<00:00, 13.75it/s]\n",
      "100%|██████████| 159/159 [00:12<00:00, 12.32it/s]\n",
      "100%|██████████| 23/23 [00:01<00:00, 13.72it/s]\n",
      "100%|██████████| 159/159 [00:13<00:00, 12.19it/s]\n",
      "100%|██████████| 23/23 [00:01<00:00, 13.68it/s]\n",
      "100%|██████████| 159/159 [00:12<00:00, 12.38it/s]\n",
      "100%|██████████| 23/23 [00:01<00:00, 13.75it/s]\n",
      "100%|██████████| 159/159 [00:12<00:00, 12.44it/s]\n",
      "100%|██████████| 23/23 [00:01<00:00, 13.73it/s]\n",
      "100%|██████████| 159/159 [00:12<00:00, 12.41it/s]\n",
      "100%|██████████| 23/23 [00:01<00:00, 13.71it/s]\n",
      "100%|██████████| 159/159 [00:12<00:00, 12.37it/s]\n",
      "100%|██████████| 23/23 [00:01<00:00, 13.73it/s]\n",
      "100%|██████████| 159/159 [00:12<00:00, 12.42it/s]\n",
      "100%|██████████| 23/23 [00:01<00:00, 13.71it/s]\n",
      "100%|██████████| 159/159 [00:12<00:00, 12.38it/s]\n",
      "100%|██████████| 23/23 [00:01<00:00, 13.76it/s]\n",
      "100%|██████████| 159/159 [00:12<00:00, 12.46it/s]\n",
      "100%|██████████| 23/23 [00:01<00:00, 13.75it/s]\n",
      "100%|██████████| 159/159 [00:12<00:00, 12.45it/s]\n",
      "100%|██████████| 23/23 [00:01<00:00, 13.32it/s]\n",
      "100%|██████████| 159/159 [00:12<00:00, 12.41it/s]\n",
      "100%|██████████| 23/23 [00:01<00:00, 13.72it/s]\n",
      "100%|██████████| 159/159 [00:12<00:00, 12.39it/s]\n",
      "100%|██████████| 23/23 [00:01<00:00, 13.73it/s]\n",
      "100%|██████████| 159/159 [00:12<00:00, 12.40it/s]\n",
      "100%|██████████| 23/23 [00:01<00:00, 13.73it/s]\n",
      "100%|██████████| 159/159 [00:12<00:00, 12.44it/s]\n",
      "100%|██████████| 23/23 [00:01<00:00, 13.71it/s]\n",
      "100%|██████████| 159/159 [00:12<00:00, 12.36it/s]\n",
      "100%|██████████| 23/23 [00:01<00:00, 13.72it/s]\n",
      "100%|██████████| 159/159 [00:12<00:00, 12.41it/s]\n",
      "100%|██████████| 23/23 [00:01<00:00, 13.72it/s]\n",
      "100%|██████████| 159/159 [00:12<00:00, 12.36it/s]\n",
      "100%|██████████| 23/23 [00:01<00:00, 13.74it/s]\n",
      "100%|██████████| 159/159 [00:12<00:00, 12.43it/s]\n",
      "100%|██████████| 23/23 [00:01<00:00, 13.72it/s]\n",
      "100%|██████████| 159/159 [00:12<00:00, 12.45it/s]\n",
      "100%|██████████| 23/23 [00:01<00:00, 13.73it/s]\n",
      "100%|██████████| 159/159 [00:12<00:00, 12.40it/s]\n",
      "100%|██████████| 23/23 [00:01<00:00, 13.75it/s]\n",
      "100%|██████████| 159/159 [00:12<00:00, 12.41it/s]\n",
      "100%|██████████| 23/23 [00:01<00:00, 13.69it/s]\n",
      "100%|██████████| 159/159 [00:12<00:00, 12.33it/s]\n",
      "100%|██████████| 23/23 [00:01<00:00, 13.69it/s]\n",
      "100%|██████████| 159/159 [00:12<00:00, 12.43it/s]\n",
      "100%|██████████| 23/23 [00:01<00:00, 13.74it/s]\n",
      "100%|██████████| 159/159 [00:12<00:00, 12.40it/s]\n",
      "100%|██████████| 23/23 [00:01<00:00, 13.76it/s]\n",
      "100%|██████████| 159/159 [00:12<00:00, 12.44it/s]\n",
      "100%|██████████| 23/23 [00:01<00:00, 13.65it/s]\n",
      "100%|██████████| 159/159 [00:12<00:00, 12.36it/s]\n",
      "100%|██████████| 23/23 [00:01<00:00, 13.73it/s]\n",
      "100%|██████████| 159/159 [00:12<00:00, 12.42it/s]\n",
      "100%|██████████| 23/23 [00:01<00:00, 13.74it/s]\n",
      "100%|██████████| 159/159 [00:12<00:00, 12.42it/s]\n",
      "100%|██████████| 23/23 [00:01<00:00, 13.31it/s]\n",
      "100%|██████████| 159/159 [00:12<00:00, 12.46it/s]\n",
      "100%|██████████| 23/23 [00:01<00:00, 13.73it/s]\n",
      "100%|██████████| 159/159 [00:12<00:00, 12.45it/s]\n",
      "100%|██████████| 23/23 [00:01<00:00, 13.34it/s]\n",
      "100%|██████████| 159/159 [00:12<00:00, 12.44it/s]\n",
      "100%|██████████| 23/23 [00:01<00:00, 13.74it/s]\n",
      "100%|██████████| 159/159 [00:12<00:00, 12.41it/s]\n",
      "100%|██████████| 23/23 [00:01<00:00, 13.65it/s]\n",
      "100%|██████████| 159/159 [00:12<00:00, 12.40it/s]\n",
      "100%|██████████| 23/23 [00:01<00:00, 13.74it/s]\n",
      "100%|██████████| 159/159 [00:12<00:00, 12.46it/s]\n",
      "100%|██████████| 23/23 [00:01<00:00, 13.74it/s]\n",
      "100%|██████████| 159/159 [00:12<00:00, 12.40it/s]\n",
      "100%|██████████| 23/23 [00:01<00:00, 13.72it/s]\n",
      "100%|██████████| 159/159 [00:12<00:00, 12.42it/s]\n",
      "100%|██████████| 23/23 [00:01<00:00, 13.54it/s]\n",
      "100%|██████████| 159/159 [00:12<00:00, 12.42it/s]\n",
      "100%|██████████| 23/23 [00:01<00:00, 13.70it/s]\n"
     ]
    },
    {
     "name": "stdout",
     "output_type": "stream",
     "text": [
      "\n",
      "embedding_size: 16\n",
      "lr: 0.001\n",
      "l2_strength: 1e-05\n",
      "l1_strength: 1e-07\n",
      "\n"
     ]
    },
    {
     "data": {
      "image/png": "[encoded data removed]",
      "text/plain": [
       "<Figure size 1000x500 with 1 Axes>"
      ]
     },
     "metadata": {},
     "output_type": "display_data"
    }
   ],
   "source": [
    "# first round of training\n",
    "train_loss_list_cm_triplets,val_loss_list_cm_triplets =  snu.training_func(\n",
    "                                                    model_tab_custom_triplets, \n",
    "                                                   epochs, \n",
    "                                                   trainloader_triplets, \n",
    "                                                   valloader_triplets, \n",
    "                                                   lr=lr, \n",
    "                                                   l1_strength=l1_strength, \n",
    "                                                   l2_strength=l2_strength, \n",
    "                                                   optimizer=optimizer,\n",
    "                                                   criterion=criterion, \n",
    "                                                   device=device, \n",
    "                                                   pairs=False, \n",
    "                                                   tabnet=False, \n",
    "                                                   best_valid_loss=np.inf,\n",
    "                                                   train_loss_list=[], \n",
    "                                                   val_loss_list=[], \n",
    "                                                   save_res_to_file=True, \n",
    "                                                   plot_result = True)"
   ]
  },
  {
   "cell_type": "code",
   "execution_count": 31,
   "metadata": {},
   "outputs": [
    {
     "data": {
      "text/plain": [
       "TabularEmbeddingModel(\n",
       "  (fc1): Linear(in_features=90, out_features=64, bias=True)\n",
       "  (relu1): ReLU()\n",
       "  (fc2): Linear(in_features=64, out_features=32, bias=True)\n",
       "  (relu2): ReLU()\n",
       "  (fc3): Linear(in_features=32, out_features=16, bias=True)\n",
       ")"
      ]
     },
     "execution_count": 31,
     "metadata": {},
     "output_type": "execute_result"
    }
   ],
   "source": [
    "# define the model\n",
    "# Initialize the model\n",
    "input_features = 90  \n",
    "embedding_size = 16  \n",
    "model_tab_custom_triplets = snu.TabularEmbeddingModel(input_features, embedding_size)\n",
    "model_tab_custom_triplets.to(device)"
   ]
  },
  {
   "cell_type": "code",
   "execution_count": 32,
   "metadata": {},
   "outputs": [],
   "source": [
    "# parameters for training\n",
    "lr = 0.003\n",
    "l2_strength = 1e-05\n",
    "l1_strength = 1e-07\n",
    "epochs = 50\n",
    "\n",
    "# margin a little bit bigger that 2.415351 - median margin for dissimilar pairs\n",
    "margin = 1.3\n",
    "\n",
    "# Optimizer               \n",
    "optimizer = optim.Adam(model_tab_custom_triplets.parameters(), lr=lr)\n",
    "\n",
    "\n",
    "criterion = nn.TripletMarginLoss(margin=margin)"
   ]
  },
  {
   "cell_type": "code",
   "execution_count": 33,
   "metadata": {},
   "outputs": [
    {
     "name": "stderr",
     "output_type": "stream",
     "text": [
      "100%|██████████| 159/159 [00:13<00:00, 12.19it/s]\n",
      "100%|██████████| 23/23 [00:01<00:00, 13.63it/s]\n",
      "100%|██████████| 159/159 [00:12<00:00, 12.25it/s]\n",
      "100%|██████████| 23/23 [00:01<00:00, 13.61it/s]\n",
      "100%|██████████| 159/159 [00:12<00:00, 12.25it/s]\n",
      "100%|██████████| 23/23 [00:01<00:00, 13.61it/s]\n",
      "100%|██████████| 159/159 [00:12<00:00, 12.25it/s]\n",
      "100%|██████████| 23/23 [00:01<00:00, 13.64it/s]\n",
      "100%|██████████| 159/159 [00:12<00:00, 12.31it/s]\n",
      "100%|██████████| 23/23 [00:01<00:00, 13.65it/s]\n",
      "100%|██████████| 159/159 [00:13<00:00, 12.21it/s]\n",
      "100%|██████████| 23/23 [00:01<00:00, 13.17it/s]\n",
      "100%|██████████| 159/159 [00:13<00:00, 12.20it/s]\n",
      "100%|██████████| 23/23 [00:01<00:00, 13.64it/s]\n",
      "100%|██████████| 159/159 [00:12<00:00, 12.30it/s]\n",
      "100%|██████████| 23/23 [00:01<00:00, 13.64it/s]\n",
      "100%|██████████| 159/159 [00:12<00:00, 12.30it/s]\n",
      "100%|██████████| 23/23 [00:01<00:00, 13.64it/s]\n",
      "100%|██████████| 159/159 [00:12<00:00, 12.32it/s]\n",
      "100%|██████████| 23/23 [00:01<00:00, 13.66it/s]\n",
      "100%|██████████| 159/159 [00:12<00:00, 12.29it/s]\n",
      "100%|██████████| 23/23 [00:01<00:00, 13.43it/s]\n",
      "100%|██████████| 159/159 [00:12<00:00, 12.34it/s]\n",
      "100%|██████████| 23/23 [00:01<00:00, 13.65it/s]\n",
      "100%|██████████| 159/159 [00:12<00:00, 12.32it/s]\n",
      "100%|██████████| 23/23 [00:01<00:00, 13.63it/s]\n",
      "100%|██████████| 159/159 [00:12<00:00, 12.27it/s]\n",
      "100%|██████████| 23/23 [00:01<00:00, 13.63it/s]\n",
      "100%|██████████| 159/159 [00:12<00:00, 12.30it/s]\n",
      "100%|██████████| 23/23 [00:01<00:00, 13.56it/s]\n",
      "100%|██████████| 159/159 [00:12<00:00, 12.32it/s]\n",
      "100%|██████████| 23/23 [00:01<00:00, 13.20it/s]\n",
      "100%|██████████| 159/159 [00:12<00:00, 12.34it/s]\n",
      "100%|██████████| 23/23 [00:01<00:00, 13.66it/s]\n",
      "100%|██████████| 159/159 [00:12<00:00, 12.35it/s]\n",
      "100%|██████████| 23/23 [00:01<00:00, 13.72it/s]\n",
      "100%|██████████| 159/159 [00:13<00:00, 12.18it/s]\n",
      "100%|██████████| 23/23 [00:01<00:00, 13.70it/s]\n",
      "100%|██████████| 159/159 [00:12<00:00, 12.36it/s]\n",
      "100%|██████████| 23/23 [00:01<00:00, 13.68it/s]\n",
      "100%|██████████| 159/159 [00:12<00:00, 12.33it/s]\n",
      "100%|██████████| 23/23 [00:01<00:00, 13.29it/s]\n",
      "100%|██████████| 159/159 [00:12<00:00, 12.38it/s]\n",
      "100%|██████████| 23/23 [00:01<00:00, 13.68it/s]\n",
      "100%|██████████| 159/159 [00:12<00:00, 12.37it/s]\n",
      "100%|██████████| 23/23 [00:01<00:00, 13.68it/s]\n",
      "100%|██████████| 159/159 [00:12<00:00, 12.31it/s]\n",
      "100%|██████████| 23/23 [00:01<00:00, 13.65it/s]\n",
      "100%|██████████| 159/159 [00:12<00:00, 12.35it/s]\n",
      "100%|██████████| 23/23 [00:01<00:00, 13.65it/s]\n",
      "100%|██████████| 159/159 [00:12<00:00, 12.27it/s]\n",
      "100%|██████████| 23/23 [00:01<00:00, 13.69it/s]\n",
      "100%|██████████| 159/159 [00:12<00:00, 12.33it/s]\n",
      "100%|██████████| 23/23 [00:01<00:00, 13.67it/s]\n",
      "100%|██████████| 159/159 [00:12<00:00, 12.35it/s]\n",
      "100%|██████████| 23/23 [00:01<00:00, 13.69it/s]\n",
      "100%|██████████| 159/159 [00:12<00:00, 12.31it/s]\n",
      "100%|██████████| 23/23 [00:01<00:00, 13.67it/s]\n",
      "100%|██████████| 159/159 [00:12<00:00, 12.38it/s]\n",
      "100%|██████████| 23/23 [00:01<00:00, 13.67it/s]\n",
      "100%|██████████| 159/159 [00:12<00:00, 12.31it/s]\n",
      "100%|██████████| 23/23 [00:01<00:00, 13.70it/s]\n",
      "100%|██████████| 159/159 [00:12<00:00, 12.37it/s]\n",
      "100%|██████████| 23/23 [00:01<00:00, 13.70it/s]\n",
      "100%|██████████| 159/159 [00:12<00:00, 12.32it/s]\n",
      "100%|██████████| 23/23 [00:01<00:00, 13.67it/s]\n",
      "100%|██████████| 159/159 [00:12<00:00, 12.36it/s]\n",
      "100%|██████████| 23/23 [00:01<00:00, 13.66it/s]\n",
      "100%|██████████| 159/159 [00:12<00:00, 12.28it/s]\n",
      "100%|██████████| 23/23 [00:01<00:00, 13.70it/s]\n",
      "100%|██████████| 159/159 [00:12<00:00, 12.36it/s]\n",
      "100%|██████████| 23/23 [00:01<00:00, 13.67it/s]\n",
      "100%|██████████| 159/159 [00:12<00:00, 12.35it/s]\n",
      "100%|██████████| 23/23 [00:01<00:00, 13.27it/s]\n",
      "100%|██████████| 159/159 [00:12<00:00, 12.34it/s]\n",
      "100%|██████████| 23/23 [00:01<00:00, 13.65it/s]\n",
      "100%|██████████| 159/159 [00:12<00:00, 12.34it/s]\n",
      "100%|██████████| 23/23 [00:01<00:00, 13.68it/s]\n",
      "100%|██████████| 159/159 [00:12<00:00, 12.32it/s]\n",
      "100%|██████████| 23/23 [00:01<00:00, 13.66it/s]\n",
      "100%|██████████| 159/159 [00:12<00:00, 12.34it/s]\n",
      "100%|██████████| 23/23 [00:01<00:00, 13.64it/s]\n",
      "100%|██████████| 159/159 [00:12<00:00, 12.29it/s]\n",
      "100%|██████████| 23/23 [00:01<00:00, 13.66it/s]\n",
      "100%|██████████| 159/159 [00:12<00:00, 12.34it/s]\n",
      "100%|██████████| 23/23 [00:01<00:00, 13.63it/s]\n",
      "100%|██████████| 159/159 [00:12<00:00, 12.28it/s]\n",
      "100%|██████████| 23/23 [00:01<00:00, 13.68it/s]\n",
      "100%|██████████| 159/159 [00:12<00:00, 12.33it/s]\n",
      "100%|██████████| 23/23 [00:01<00:00, 13.67it/s]\n",
      "100%|██████████| 159/159 [00:12<00:00, 12.32it/s]\n",
      "100%|██████████| 23/23 [00:01<00:00, 13.69it/s]\n",
      "100%|██████████| 159/159 [00:12<00:00, 12.37it/s]\n",
      "100%|██████████| 23/23 [00:01<00:00, 13.67it/s]\n",
      "100%|██████████| 159/159 [00:12<00:00, 12.30it/s]\n",
      "100%|██████████| 23/23 [00:01<00:00, 13.65it/s]\n",
      "100%|██████████| 159/159 [00:12<00:00, 12.33it/s]\n",
      "100%|██████████| 23/23 [00:01<00:00, 13.63it/s]\n",
      "100%|██████████| 159/159 [00:12<00:00, 12.31it/s]\n",
      "100%|██████████| 23/23 [00:01<00:00, 13.67it/s]\n"
     ]
    },
    {
     "name": "stdout",
     "output_type": "stream",
     "text": [
      "\n",
      "embedding_size: 16\n",
      "lr: 0.003\n",
      "l2_strength: 1e-05\n",
      "l1_strength: 1e-07\n",
      "\n"
     ]
    },
    {
     "data": {
      "image/png": "[encoded data removed]",
      "text/plain": [
       "<Figure size 1000x500 with 1 Axes>"
      ]
     },
     "metadata": {},
     "output_type": "display_data"
    }
   ],
   "source": [
    "# first round of training\n",
    "train_loss_list_cm_triplets,val_loss_list_cm_triplets =  snu.training_func(\n",
    "                                                    model_tab_custom_triplets, \n",
    "                                                   epochs, \n",
    "                                                   trainloader_triplets, \n",
    "                                                   valloader_triplets, \n",
    "                                                   lr=lr, \n",
    "                                                   l1_strength=l1_strength, \n",
    "                                                   l2_strength=l2_strength, \n",
    "                                                   optimizer=optimizer,\n",
    "                                                   criterion=criterion, \n",
    "                                                   device=device, \n",
    "                                                   pairs=False, \n",
    "                                                   tabnet=False, \n",
    "                                                   best_valid_loss=np.inf,\n",
    "                                                   train_loss_list=[], \n",
    "                                                   val_loss_list=[], \n",
    "                                                   save_res_to_file=True, \n",
    "                                                   plot_result = True)"
   ]
  },
  {
   "cell_type": "code",
   "execution_count": 43,
   "metadata": {},
   "outputs": [
    {
     "data": {
      "text/plain": [
       "TabularEmbeddingModel(\n",
       "  (fc1): Linear(in_features=90, out_features=64, bias=True)\n",
       "  (relu1): ReLU()\n",
       "  (fc2): Linear(in_features=64, out_features=32, bias=True)\n",
       "  (relu2): ReLU()\n",
       "  (fc3): Linear(in_features=32, out_features=16, bias=True)\n",
       ")"
      ]
     },
     "execution_count": 43,
     "metadata": {},
     "output_type": "execute_result"
    }
   ],
   "source": [
    "# define the model\n",
    "# Initialize the model\n",
    "input_features = 90  \n",
    "embedding_size = 16  \n",
    "model_tab_custom_triplets = snu.TabularEmbeddingModel(input_features, embedding_size)\n",
    "model_tab_custom_triplets.to(device)"
   ]
  },
  {
   "cell_type": "code",
   "execution_count": 44,
   "metadata": {},
   "outputs": [],
   "source": [
    "# parameters for training\n",
    "lr = 0.003\n",
    "l2_strength = 1e-04\n",
    "l1_strength = 1e-05\n",
    "epochs = 50\n",
    "\n",
    "# margin a little bit bigger that 2.415351 - median margin for dissimilar pairs\n",
    "margin = 1.3\n",
    "\n",
    "# Optimizer               \n",
    "optimizer = optim.Adam(model_tab_custom_triplets.parameters(), lr=lr)\n",
    "\n",
    "\n",
    "criterion = nn.TripletMarginLoss(margin=margin)"
   ]
  },
  {
   "cell_type": "code",
   "execution_count": 45,
   "metadata": {},
   "outputs": [
    {
     "name": "stderr",
     "output_type": "stream",
     "text": [
      "100%|██████████| 159/159 [00:12<00:00, 12.63it/s]\n",
      "100%|██████████| 23/23 [00:01<00:00, 13.87it/s]\n",
      "100%|██████████| 159/159 [00:12<00:00, 12.42it/s]\n",
      "100%|██████████| 23/23 [00:01<00:00, 13.80it/s]\n",
      "100%|██████████| 159/159 [00:12<00:00, 12.34it/s]\n",
      "100%|██████████| 23/23 [00:01<00:00, 13.74it/s]\n",
      "100%|██████████| 159/159 [00:12<00:00, 12.28it/s]\n",
      "100%|██████████| 23/23 [00:01<00:00, 13.62it/s]\n",
      "100%|██████████| 159/159 [00:12<00:00, 12.28it/s]\n",
      "100%|██████████| 23/23 [00:01<00:00, 13.58it/s]\n",
      "100%|██████████| 159/159 [00:13<00:00, 12.23it/s]\n",
      "100%|██████████| 23/23 [00:01<00:00, 13.50it/s]\n",
      "100%|██████████| 159/159 [00:13<00:00, 12.17it/s]\n",
      "100%|██████████| 23/23 [00:01<00:00, 13.57it/s]\n",
      "100%|██████████| 159/159 [00:12<00:00, 12.23it/s]\n",
      "100%|██████████| 23/23 [00:01<00:00, 13.56it/s]\n",
      "100%|██████████| 159/159 [00:13<00:00, 12.18it/s]\n",
      "100%|██████████| 23/23 [00:01<00:00, 13.64it/s]\n",
      "100%|██████████| 159/159 [00:13<00:00, 12.22it/s]\n",
      "100%|██████████| 23/23 [00:01<00:00, 13.60it/s]\n",
      "100%|██████████| 159/159 [00:13<00:00, 12.20it/s]\n",
      "100%|██████████| 23/23 [00:01<00:00, 13.05it/s]\n",
      "100%|██████████| 159/159 [00:13<00:00, 12.21it/s]\n",
      "100%|██████████| 23/23 [00:01<00:00, 13.55it/s]\n",
      "100%|██████████| 159/159 [00:13<00:00, 12.22it/s]\n",
      "100%|██████████| 23/23 [00:01<00:00, 13.53it/s]\n",
      "100%|██████████| 159/159 [00:13<00:00, 12.11it/s]\n",
      "100%|██████████| 23/23 [00:01<00:00, 13.51it/s]\n",
      "100%|██████████| 159/159 [00:13<00:00, 12.17it/s]\n",
      "100%|██████████| 23/23 [00:01<00:00, 13.57it/s]\n",
      "100%|██████████| 159/159 [00:13<00:00, 12.13it/s]\n",
      "100%|██████████| 23/23 [00:01<00:00, 13.49it/s]\n",
      "100%|██████████| 159/159 [00:13<00:00, 11.62it/s]\n",
      "100%|██████████| 23/23 [00:01<00:00, 13.66it/s]\n",
      "100%|██████████| 159/159 [00:12<00:00, 12.30it/s]\n",
      "100%|██████████| 23/23 [00:01<00:00, 13.65it/s]\n",
      "100%|██████████| 159/159 [00:12<00:00, 12.31it/s]\n",
      "100%|██████████| 23/23 [00:01<00:00, 13.66it/s]\n",
      "100%|██████████| 159/159 [00:12<00:00, 12.29it/s]\n",
      "100%|██████████| 23/23 [00:01<00:00, 13.62it/s]\n",
      "100%|██████████| 159/159 [00:12<00:00, 12.34it/s]\n",
      "100%|██████████| 23/23 [00:01<00:00, 13.65it/s]\n",
      "100%|██████████| 159/159 [00:13<00:00, 11.49it/s]\n",
      "100%|██████████| 23/23 [00:01<00:00, 13.68it/s]\n",
      "100%|██████████| 159/159 [00:12<00:00, 12.32it/s]\n",
      "100%|██████████| 23/23 [00:01<00:00, 13.64it/s]\n",
      "100%|██████████| 159/159 [00:12<00:00, 12.30it/s]\n",
      "100%|██████████| 23/23 [00:01<00:00, 13.68it/s]\n",
      "100%|██████████| 159/159 [00:12<00:00, 12.26it/s]\n",
      "100%|██████████| 23/23 [00:01<00:00, 13.70it/s]\n",
      "100%|██████████| 159/159 [00:12<00:00, 12.34it/s]\n",
      "100%|██████████| 23/23 [00:01<00:00, 13.62it/s]\n",
      "100%|██████████| 159/159 [00:12<00:00, 12.26it/s]\n",
      "100%|██████████| 23/23 [00:01<00:00, 13.67it/s]\n",
      "100%|██████████| 159/159 [00:12<00:00, 12.33it/s]\n",
      "100%|██████████| 23/23 [00:01<00:00, 13.65it/s]\n",
      "100%|██████████| 159/159 [00:12<00:00, 12.30it/s]\n",
      "100%|██████████| 23/23 [00:01<00:00, 13.51it/s]\n",
      "100%|██████████| 159/159 [00:12<00:00, 12.32it/s]\n",
      "100%|██████████| 23/23 [00:01<00:00, 13.66it/s]\n",
      "100%|██████████| 159/159 [00:12<00:00, 12.34it/s]\n",
      "100%|██████████| 23/23 [00:01<00:00, 13.66it/s]\n",
      "100%|██████████| 159/159 [00:12<00:00, 12.29it/s]\n",
      "100%|██████████| 23/23 [00:01<00:00, 13.66it/s]\n",
      "100%|██████████| 159/159 [00:12<00:00, 12.32it/s]\n",
      "100%|██████████| 23/23 [00:01<00:00, 13.67it/s]\n",
      "100%|██████████| 159/159 [00:12<00:00, 12.25it/s]\n",
      "100%|██████████| 23/23 [00:01<00:00, 13.67it/s]\n",
      "100%|██████████| 159/159 [00:12<00:00, 12.35it/s]\n",
      "100%|██████████| 23/23 [00:01<00:00, 13.69it/s]\n",
      "100%|██████████| 159/159 [00:12<00:00, 12.29it/s]\n",
      "100%|██████████| 23/23 [00:01<00:00, 13.70it/s]\n",
      "100%|██████████| 159/159 [00:12<00:00, 12.35it/s]\n",
      "100%|██████████| 23/23 [00:01<00:00, 13.66it/s]\n",
      "100%|██████████| 159/159 [00:12<00:00, 12.26it/s]\n",
      "100%|██████████| 23/23 [00:01<00:00, 13.70it/s]\n",
      "100%|██████████| 159/159 [00:12<00:00, 12.32it/s]\n",
      "100%|██████████| 23/23 [00:01<00:00, 13.63it/s]\n",
      "100%|██████████| 159/159 [00:12<00:00, 12.31it/s]\n",
      "100%|██████████| 23/23 [00:01<00:00, 13.11it/s]\n",
      "100%|██████████| 159/159 [00:12<00:00, 12.34it/s]\n",
      "100%|██████████| 23/23 [00:01<00:00, 13.65it/s]\n",
      "100%|██████████| 159/159 [00:12<00:00, 12.31it/s]\n",
      "100%|██████████| 23/23 [00:01<00:00, 13.65it/s]\n",
      "100%|██████████| 159/159 [00:12<00:00, 12.26it/s]\n",
      "100%|██████████| 23/23 [00:01<00:00, 13.68it/s]\n",
      "100%|██████████| 159/159 [00:12<00:00, 12.32it/s]\n",
      "100%|██████████| 23/23 [00:01<00:00, 13.63it/s]\n",
      "100%|██████████| 159/159 [00:12<00:00, 12.25it/s]\n",
      "100%|██████████| 23/23 [00:01<00:00, 13.63it/s]\n",
      "100%|██████████| 159/159 [00:12<00:00, 12.30it/s]\n",
      "100%|██████████| 23/23 [00:01<00:00, 13.63it/s]\n",
      "100%|██████████| 159/159 [00:12<00:00, 12.28it/s]\n",
      "100%|██████████| 23/23 [00:01<00:00, 13.67it/s]\n",
      "100%|██████████| 159/159 [00:12<00:00, 12.33it/s]\n",
      "100%|██████████| 23/23 [00:01<00:00, 13.67it/s]\n",
      "100%|██████████| 159/159 [00:12<00:00, 12.26it/s]\n",
      "100%|██████████| 23/23 [00:01<00:00, 13.66it/s]\n",
      "100%|██████████| 159/159 [00:12<00:00, 12.34it/s]\n",
      "100%|██████████| 23/23 [00:01<00:00, 13.64it/s]\n"
     ]
    },
    {
     "name": "stdout",
     "output_type": "stream",
     "text": [
      "\n",
      "embedding_size: 16\n",
      "lr: 0.003\n",
      "l2_strength: 0.0001\n",
      "l1_strength: 1e-05\n",
      "\n"
     ]
    },
    {
     "data": {
      "image/png": "[encoded data removed]",
      "text/plain": [
       "<Figure size 1000x500 with 1 Axes>"
      ]
     },
     "metadata": {},
     "output_type": "display_data"
    }
   ],
   "source": [
    "# first round of training\n",
    "train_loss_list_cm_triplets,val_loss_list_cm_triplets =  snu.training_func(\n",
    "                                                    model_tab_custom_triplets, \n",
    "                                                   epochs, \n",
    "                                                   trainloader_triplets, \n",
    "                                                   valloader_triplets, \n",
    "                                                   lr=lr, \n",
    "                                                   l1_strength=l1_strength, \n",
    "                                                   l2_strength=l2_strength, \n",
    "                                                   optimizer=optimizer,\n",
    "                                                   criterion=criterion, \n",
    "                                                   device=device, \n",
    "                                                   pairs=False, \n",
    "                                                   tabnet=False, \n",
    "                                                   best_valid_loss=np.inf,\n",
    "                                                   train_loss_list=[], \n",
    "                                                   val_loss_list=[], \n",
    "                                                   save_res_to_file=True, \n",
    "                                                   plot_result = True)"
   ]
  },
  {
   "cell_type": "markdown",
   "metadata": {},
   "source": [
    "<h3>TabNet Model, triplets</h3>"
   ]
  },
  {
   "cell_type": "code",
   "execution_count": 23,
   "metadata": {},
   "outputs": [],
   "source": [
    "# define the model\n",
    "# Initialize the model\n",
    "input_features = 90  \n",
    "embedding_size = 16  \n",
    "model_tab_tabnet_triplets = snu.TabNetEmbeddingModel(input_features, embedding_size)\n",
    "model_tab_tabnet_triplets.to(device)\n",
    "\n",
    "# Ensure group attention matrix is also on GPU\n",
    "if hasattr(model_tab_tabnet_triplets.tabnet.encoder, 'group_attention_matrix'):\n",
    "    model_tab_tabnet_triplets.tabnet.encoder.group_attention_matrix = model_tab_tabnet_triplets.tabnet.encoder.group_attention_matrix.to(device)"
   ]
  },
  {
   "cell_type": "code",
   "execution_count": 24,
   "metadata": {},
   "outputs": [],
   "source": [
    "# parameters for training\n",
    "lr = 0.001\n",
    "l2_strength = 1e-05\n",
    "l1_strength = 1e-07\n",
    "epochs = 50\n",
    "\n",
    "# margin a little bit bigger that 2.415351 - median margin for dissimilar pairs\n",
    "margin = 2.43\n",
    "\n",
    "# Optimizer               \n",
    "optimizer = optim.Adam(model_tab_tabnet_triplets.parameters(), lr=lr)\n",
    "\n",
    "\n",
    "criterion = nn.TripletMarginLoss(margin=margin)"
   ]
  },
  {
   "cell_type": "code",
   "execution_count": 25,
   "metadata": {},
   "outputs": [
    {
     "name": "stderr",
     "output_type": "stream",
     "text": [
      "100%|██████████| 159/159 [00:32<00:00,  4.95it/s]\n",
      "100%|██████████| 23/23 [00:02<00:00,  9.08it/s]\n",
      "100%|██████████| 159/159 [00:31<00:00,  5.01it/s]\n",
      "100%|██████████| 23/23 [00:02<00:00,  9.38it/s]\n",
      "100%|██████████| 159/159 [00:31<00:00,  5.01it/s]\n",
      "100%|██████████| 23/23 [00:02<00:00,  9.24it/s]\n",
      "100%|██████████| 159/159 [00:31<00:00,  5.03it/s]\n",
      "100%|██████████| 23/23 [00:02<00:00,  9.30it/s]\n",
      "100%|██████████| 159/159 [00:31<00:00,  5.05it/s]\n",
      "100%|██████████| 23/23 [00:02<00:00,  9.37it/s]\n",
      "100%|██████████| 159/159 [00:31<00:00,  5.04it/s]\n",
      "100%|██████████| 23/23 [00:02<00:00,  9.23it/s]\n",
      "100%|██████████| 159/159 [00:31<00:00,  5.04it/s]\n",
      "100%|██████████| 23/23 [00:02<00:00,  9.11it/s]\n",
      "100%|██████████| 159/159 [00:31<00:00,  5.03it/s]\n",
      "100%|██████████| 23/23 [00:02<00:00,  9.32it/s]\n",
      "100%|██████████| 159/159 [00:31<00:00,  5.00it/s]\n",
      "100%|██████████| 23/23 [00:02<00:00,  9.33it/s]\n",
      "100%|██████████| 159/159 [00:31<00:00,  5.01it/s]\n",
      "100%|██████████| 23/23 [00:02<00:00,  9.35it/s]\n",
      "100%|██████████| 159/159 [00:31<00:00,  4.99it/s]\n",
      "100%|██████████| 23/23 [00:02<00:00,  9.21it/s]\n",
      "100%|██████████| 159/159 [00:31<00:00,  5.03it/s]\n",
      "100%|██████████| 23/23 [00:02<00:00,  9.30it/s]\n",
      "100%|██████████| 159/159 [00:31<00:00,  5.02it/s]\n",
      "100%|██████████| 23/23 [00:02<00:00,  9.28it/s]\n",
      "100%|██████████| 159/159 [00:31<00:00,  5.02it/s]\n",
      "100%|██████████| 23/23 [00:02<00:00,  9.35it/s]\n",
      "100%|██████████| 159/159 [00:31<00:00,  5.03it/s]\n",
      "100%|██████████| 23/23 [00:02<00:00,  9.25it/s]\n",
      "100%|██████████| 159/159 [00:31<00:00,  5.00it/s]\n",
      "100%|██████████| 23/23 [00:02<00:00,  9.36it/s]\n",
      "100%|██████████| 159/159 [00:31<00:00,  5.03it/s]\n",
      "100%|██████████| 23/23 [00:02<00:00,  9.34it/s]\n",
      "100%|██████████| 159/159 [00:31<00:00,  5.00it/s]\n",
      "100%|██████████| 23/23 [00:02<00:00,  9.38it/s]\n",
      "100%|██████████| 159/159 [00:31<00:00,  5.05it/s]\n",
      "100%|██████████| 23/23 [00:02<00:00,  9.28it/s]\n",
      "100%|██████████| 159/159 [00:31<00:00,  5.03it/s]\n",
      "100%|██████████| 23/23 [00:02<00:00,  9.28it/s]\n",
      "100%|██████████| 159/159 [00:31<00:00,  4.99it/s]\n",
      "100%|██████████| 23/23 [00:02<00:00,  9.35it/s]\n",
      "100%|██████████| 159/159 [00:31<00:00,  5.04it/s]\n",
      "100%|██████████| 23/23 [00:02<00:00,  8.96it/s]\n",
      "100%|██████████| 159/159 [00:31<00:00,  5.08it/s]\n",
      "100%|██████████| 23/23 [00:02<00:00,  9.33it/s]\n",
      "100%|██████████| 159/159 [00:31<00:00,  5.06it/s]\n",
      "100%|██████████| 23/23 [00:02<00:00,  9.34it/s]\n",
      "100%|██████████| 159/159 [00:31<00:00,  5.04it/s]\n",
      "100%|██████████| 23/23 [00:02<00:00,  9.33it/s]\n",
      "100%|██████████| 159/159 [00:31<00:00,  5.02it/s]\n",
      "100%|██████████| 23/23 [00:02<00:00,  9.28it/s]\n",
      "100%|██████████| 159/159 [00:31<00:00,  5.01it/s]\n",
      "100%|██████████| 23/23 [00:02<00:00,  9.35it/s]\n",
      "100%|██████████| 159/159 [00:31<00:00,  5.02it/s]\n",
      "100%|██████████| 23/23 [00:02<00:00,  9.31it/s]\n",
      "100%|██████████| 159/159 [00:31<00:00,  5.04it/s]\n",
      "100%|██████████| 23/23 [00:02<00:00,  9.32it/s]\n",
      "100%|██████████| 159/159 [00:31<00:00,  5.03it/s]\n",
      "100%|██████████| 23/23 [00:02<00:00,  9.28it/s]\n",
      "100%|██████████| 159/159 [00:31<00:00,  5.02it/s]\n",
      "100%|██████████| 23/23 [00:02<00:00,  9.34it/s]\n",
      "100%|██████████| 159/159 [00:31<00:00,  5.05it/s]\n",
      "100%|██████████| 23/23 [00:02<00:00,  9.29it/s]\n",
      "100%|██████████| 159/159 [00:32<00:00,  4.93it/s]\n",
      "100%|██████████| 23/23 [00:02<00:00,  9.30it/s]\n",
      "100%|██████████| 159/159 [00:31<00:00,  5.02it/s]\n",
      "100%|██████████| 23/23 [00:02<00:00,  9.27it/s]\n",
      "100%|██████████| 159/159 [00:31<00:00,  5.03it/s]\n",
      "100%|██████████| 23/23 [00:02<00:00,  9.45it/s]\n",
      "100%|██████████| 159/159 [00:31<00:00,  5.00it/s]\n",
      "100%|██████████| 23/23 [00:02<00:00,  9.35it/s]\n",
      "100%|██████████| 159/159 [00:31<00:00,  4.99it/s]\n",
      "100%|██████████| 23/23 [00:02<00:00,  9.26it/s]\n",
      "100%|██████████| 159/159 [00:31<00:00,  5.02it/s]\n",
      "100%|██████████| 23/23 [00:02<00:00,  9.33it/s]\n",
      "100%|██████████| 159/159 [00:31<00:00,  5.03it/s]\n",
      "100%|██████████| 23/23 [00:02<00:00,  9.38it/s]\n",
      "100%|██████████| 159/159 [00:31<00:00,  5.04it/s]\n",
      "100%|██████████| 23/23 [00:02<00:00,  9.28it/s]\n",
      "100%|██████████| 159/159 [00:31<00:00,  5.01it/s]\n",
      "100%|██████████| 23/23 [00:02<00:00,  9.21it/s]\n",
      "100%|██████████| 159/159 [00:32<00:00,  4.85it/s]\n",
      "100%|██████████| 23/23 [00:02<00:00,  9.12it/s]\n",
      "100%|██████████| 159/159 [00:31<00:00,  5.03it/s]\n",
      "100%|██████████| 23/23 [00:02<00:00,  8.69it/s]\n",
      "100%|██████████| 159/159 [00:31<00:00,  5.00it/s]\n",
      "100%|██████████| 23/23 [00:02<00:00,  9.29it/s]\n",
      "100%|██████████| 159/159 [00:31<00:00,  5.04it/s]\n",
      "100%|██████████| 23/23 [00:02<00:00,  9.44it/s]\n",
      "100%|██████████| 159/159 [00:31<00:00,  4.99it/s]\n",
      "100%|██████████| 23/23 [00:02<00:00,  9.33it/s]\n",
      "100%|██████████| 159/159 [00:31<00:00,  5.04it/s]\n",
      "100%|██████████| 23/23 [00:02<00:00,  9.27it/s]\n",
      "100%|██████████| 159/159 [00:31<00:00,  5.01it/s]\n",
      "100%|██████████| 23/23 [00:02<00:00,  9.30it/s]\n",
      "100%|██████████| 159/159 [00:31<00:00,  5.04it/s]\n",
      "100%|██████████| 23/23 [00:02<00:00,  9.45it/s]\n",
      "100%|██████████| 159/159 [00:31<00:00,  5.03it/s]\n",
      "100%|██████████| 23/23 [00:02<00:00,  9.24it/s]\n"
     ]
    },
    {
     "name": "stdout",
     "output_type": "stream",
     "text": [
      "\n",
      "embedding_size: 16\n",
      "lr: 0.001\n",
      "l2_strength: 1e-05\n",
      "l1_strength: 1e-07\n",
      "\n"
     ]
    },
    {
     "data": {
      "image/png": "[encoded data removed]",
      "text/plain": [
       "<Figure size 1000x500 with 1 Axes>"
      ]
     },
     "metadata": {},
     "output_type": "display_data"
    }
   ],
   "source": [
    "# first round of training\n",
    "train_loss_list_tabnet_triplets,val_loss_list_tabnet_triplets =  snu.training_func(\n",
    "                                                    model_tab_tabnet_triplets, \n",
    "                                                   epochs, \n",
    "                                                   trainloader_triplets, \n",
    "                                                   valloader_triplets, \n",
    "                                                   lr=lr, \n",
    "                                                   l1_strength=l1_strength, \n",
    "                                                   l2_strength=l2_strength, \n",
    "                                                   optimizer=optimizer,\n",
    "                                                   criterion=criterion, \n",
    "                                                   device=device, \n",
    "                                                   pairs=False, \n",
    "                                                   tabnet=True, \n",
    "                                                   best_valid_loss=np.inf,\n",
    "                                                   train_loss_list=[], \n",
    "                                                   val_loss_list=[], \n",
    "                                                   save_res_to_file=True, \n",
    "                                                   plot_result = True)"
   ]
  },
  {
   "cell_type": "code",
   "execution_count": 34,
   "metadata": {},
   "outputs": [],
   "source": [
    "# define the model\n",
    "# Initialize the model\n",
    "input_features = 90  \n",
    "embedding_size = 16  \n",
    "model_tab_tabnet_triplets = snu.TabNetEmbeddingModel(input_features, embedding_size)\n",
    "model_tab_tabnet_triplets.to(device)\n",
    "\n",
    "# Ensure group attention matrix is also on GPU\n",
    "if hasattr(model_tab_tabnet_triplets.tabnet.encoder, 'group_attention_matrix'):\n",
    "    model_tab_tabnet_triplets.tabnet.encoder.group_attention_matrix = model_tab_tabnet_triplets.tabnet.encoder.group_attention_matrix.to(device)"
   ]
  },
  {
   "cell_type": "code",
   "execution_count": 35,
   "metadata": {},
   "outputs": [],
   "source": [
    "# parameters for training\n",
    "lr = 0.001\n",
    "l2_strength = 1e-05\n",
    "l1_strength = 1e-07\n",
    "epochs = 50\n",
    "\n",
    "# margin a little bit bigger that 2.415351 - median margin for dissimilar pairs\n",
    "margin = 1.3\n",
    "\n",
    "# Optimizer               \n",
    "optimizer = optim.Adam(model_tab_tabnet_triplets.parameters(), lr=lr)\n",
    "\n",
    "\n",
    "criterion = nn.TripletMarginLoss(margin=margin)"
   ]
  },
  {
   "cell_type": "code",
   "execution_count": 36,
   "metadata": {},
   "outputs": [
    {
     "name": "stderr",
     "output_type": "stream",
     "text": [
      "100%|██████████| 159/159 [00:32<00:00,  4.96it/s]\n",
      "100%|██████████| 23/23 [00:02<00:00,  9.19it/s]\n",
      "100%|██████████| 159/159 [00:31<00:00,  4.98it/s]\n",
      "100%|██████████| 23/23 [00:02<00:00,  9.25it/s]\n",
      "100%|██████████| 159/159 [00:32<00:00,  4.94it/s]\n",
      "100%|██████████| 23/23 [00:02<00:00,  9.22it/s]\n",
      "100%|██████████| 159/159 [00:32<00:00,  4.95it/s]\n",
      "100%|██████████| 23/23 [00:02<00:00,  8.92it/s]\n",
      "100%|██████████| 159/159 [00:32<00:00,  4.96it/s]\n",
      "100%|██████████| 23/23 [00:02<00:00,  9.34it/s]\n",
      "100%|██████████| 159/159 [00:32<00:00,  4.96it/s]\n",
      "100%|██████████| 23/23 [00:02<00:00,  9.29it/s]\n",
      "100%|██████████| 159/159 [00:31<00:00,  5.00it/s]\n",
      "100%|██████████| 23/23 [00:02<00:00,  9.07it/s]\n",
      "100%|██████████| 159/159 [00:31<00:00,  4.99it/s]\n",
      "100%|██████████| 23/23 [00:02<00:00,  9.37it/s]\n",
      "100%|██████████| 159/159 [00:32<00:00,  4.96it/s]\n",
      "100%|██████████| 23/23 [00:02<00:00,  9.33it/s]\n",
      "100%|██████████| 159/159 [00:32<00:00,  4.96it/s]\n",
      "100%|██████████| 23/23 [00:02<00:00,  9.26it/s]\n",
      "100%|██████████| 159/159 [00:32<00:00,  4.96it/s]\n",
      "100%|██████████| 23/23 [00:02<00:00,  9.22it/s]\n",
      "100%|██████████| 159/159 [00:31<00:00,  4.98it/s]\n",
      "100%|██████████| 23/23 [00:02<00:00,  9.22it/s]\n",
      "100%|██████████| 159/159 [00:32<00:00,  4.95it/s]\n",
      "100%|██████████| 23/23 [00:02<00:00,  9.26it/s]\n",
      "100%|██████████| 159/159 [00:32<00:00,  4.97it/s]\n",
      "100%|██████████| 23/23 [00:02<00:00,  9.34it/s]\n",
      "100%|██████████| 159/159 [00:32<00:00,  4.96it/s]\n",
      "100%|██████████| 23/23 [00:02<00:00,  9.39it/s]\n",
      "100%|██████████| 159/159 [00:31<00:00,  4.98it/s]\n",
      "100%|██████████| 23/23 [00:02<00:00,  9.26it/s]\n",
      "100%|██████████| 159/159 [00:32<00:00,  4.95it/s]\n",
      "100%|██████████| 23/23 [00:02<00:00,  9.33it/s]\n",
      "100%|██████████| 159/159 [00:32<00:00,  4.96it/s]\n",
      "100%|██████████| 23/23 [00:02<00:00,  9.24it/s]\n",
      "100%|██████████| 159/159 [00:32<00:00,  4.94it/s]\n",
      "100%|██████████| 23/23 [00:02<00:00,  9.23it/s]\n",
      "100%|██████████| 159/159 [00:32<00:00,  4.95it/s]\n",
      "100%|██████████| 23/23 [00:02<00:00,  9.31it/s]\n",
      "100%|██████████| 159/159 [00:31<00:00,  4.98it/s]\n",
      "100%|██████████| 23/23 [00:02<00:00,  9.18it/s]\n",
      "100%|██████████| 159/159 [00:32<00:00,  4.95it/s]\n",
      "100%|██████████| 23/23 [00:02<00:00,  9.24it/s]\n",
      "100%|██████████| 159/159 [00:31<00:00,  4.99it/s]\n",
      "100%|██████████| 23/23 [00:02<00:00,  9.27it/s]\n",
      "100%|██████████| 159/159 [00:31<00:00,  4.98it/s]\n",
      "100%|██████████| 23/23 [00:02<00:00,  9.25it/s]\n",
      "100%|██████████| 159/159 [00:31<00:00,  4.98it/s]\n",
      "100%|██████████| 23/23 [00:02<00:00,  9.09it/s]\n",
      "100%|██████████| 159/159 [00:32<00:00,  4.90it/s]\n",
      "100%|██████████| 23/23 [00:02<00:00,  9.18it/s]\n",
      "100%|██████████| 159/159 [00:31<00:00,  4.97it/s]\n",
      "100%|██████████| 23/23 [00:02<00:00,  9.32it/s]\n",
      "100%|██████████| 159/159 [00:31<00:00,  5.00it/s]\n",
      "100%|██████████| 23/23 [00:02<00:00,  9.26it/s]\n",
      "100%|██████████| 159/159 [00:32<00:00,  4.96it/s]\n",
      "100%|██████████| 23/23 [00:02<00:00,  9.17it/s]\n",
      "100%|██████████| 159/159 [00:32<00:00,  4.95it/s]\n",
      "100%|██████████| 23/23 [00:02<00:00,  9.29it/s]\n",
      "100%|██████████| 159/159 [00:31<00:00,  4.98it/s]\n",
      "100%|██████████| 23/23 [00:02<00:00,  9.19it/s]\n",
      "100%|██████████| 159/159 [00:31<00:00,  4.98it/s]\n",
      "100%|██████████| 23/23 [00:02<00:00,  9.19it/s]\n",
      "100%|██████████| 159/159 [00:32<00:00,  4.96it/s]\n",
      "100%|██████████| 23/23 [00:02<00:00,  9.27it/s]\n",
      "100%|██████████| 159/159 [00:32<00:00,  4.94it/s]\n",
      "100%|██████████| 23/23 [00:02<00:00,  9.16it/s]\n",
      "100%|██████████| 159/159 [00:31<00:00,  4.97it/s]\n",
      "100%|██████████| 23/23 [00:02<00:00,  9.22it/s]\n",
      "100%|██████████| 159/159 [00:32<00:00,  4.96it/s]\n",
      "100%|██████████| 23/23 [00:02<00:00,  9.30it/s]\n",
      "100%|██████████| 159/159 [00:31<00:00,  5.00it/s]\n",
      "100%|██████████| 23/23 [00:02<00:00,  9.13it/s]\n",
      "100%|██████████| 159/159 [00:32<00:00,  4.96it/s]\n",
      "100%|██████████| 23/23 [00:02<00:00,  9.28it/s]\n",
      "100%|██████████| 159/159 [00:31<00:00,  4.98it/s]\n",
      "100%|██████████| 23/23 [00:02<00:00,  9.21it/s]\n",
      "100%|██████████| 159/159 [00:32<00:00,  4.95it/s]\n",
      "100%|██████████| 23/23 [00:02<00:00,  9.17it/s]\n",
      "100%|██████████| 159/159 [00:31<00:00,  4.99it/s]\n",
      "100%|██████████| 23/23 [00:02<00:00,  9.21it/s]\n",
      "100%|██████████| 159/159 [00:31<00:00,  4.98it/s]\n",
      "100%|██████████| 23/23 [00:02<00:00,  9.12it/s]\n",
      "100%|██████████| 159/159 [00:32<00:00,  4.96it/s]\n",
      "100%|██████████| 23/23 [00:02<00:00,  9.20it/s]\n",
      "100%|██████████| 159/159 [00:31<00:00,  4.98it/s]\n",
      "100%|██████████| 23/23 [00:02<00:00,  9.17it/s]\n",
      "100%|██████████| 159/159 [00:31<00:00,  4.97it/s]\n",
      "100%|██████████| 23/23 [00:02<00:00,  9.39it/s]\n",
      "100%|██████████| 159/159 [00:31<00:00,  4.98it/s]\n",
      "100%|██████████| 23/23 [00:02<00:00,  9.24it/s]\n",
      "100%|██████████| 159/159 [00:32<00:00,  4.97it/s]\n",
      "100%|██████████| 23/23 [00:02<00:00,  9.01it/s]\n",
      "100%|██████████| 159/159 [00:32<00:00,  4.97it/s]\n",
      "100%|██████████| 23/23 [00:02<00:00,  8.96it/s]\n",
      "100%|██████████| 159/159 [00:31<00:00,  4.99it/s]\n",
      "100%|██████████| 23/23 [00:02<00:00,  9.35it/s]\n",
      "100%|██████████| 159/159 [00:32<00:00,  4.94it/s]\n",
      "100%|██████████| 23/23 [00:02<00:00,  9.33it/s]\n"
     ]
    },
    {
     "name": "stdout",
     "output_type": "stream",
     "text": [
      "\n",
      "embedding_size: 16\n",
      "lr: 0.001\n",
      "l2_strength: 1e-05\n",
      "l1_strength: 1e-07\n",
      "\n"
     ]
    },
    {
     "data": {
      "image/png": "[encoded data removed]",
      "text/plain": [
       "<Figure size 1000x500 with 1 Axes>"
      ]
     },
     "metadata": {},
     "output_type": "display_data"
    }
   ],
   "source": [
    "# first round of training\n",
    "train_loss_list_tabnet_triplets,val_loss_list_tabnet_triplets =  snu.training_func(\n",
    "                                                    model_tab_tabnet_triplets, \n",
    "                                                   epochs, \n",
    "                                                   trainloader_triplets, \n",
    "                                                   valloader_triplets, \n",
    "                                                   lr=lr, \n",
    "                                                   l1_strength=l1_strength, \n",
    "                                                   l2_strength=l2_strength, \n",
    "                                                   optimizer=optimizer,\n",
    "                                                   criterion=criterion, \n",
    "                                                   device=device, \n",
    "                                                   pairs=False, \n",
    "                                                   tabnet=True, \n",
    "                                                   best_valid_loss=np.inf,\n",
    "                                                   train_loss_list=[], \n",
    "                                                   val_loss_list=[], \n",
    "                                                   save_res_to_file=True, \n",
    "                                                   plot_result = True)"
   ]
  },
  {
   "cell_type": "code",
   "execution_count": 40,
   "metadata": {},
   "outputs": [],
   "source": [
    "# define the model\n",
    "# Initialize the model\n",
    "input_features = 90  \n",
    "embedding_size = 32\n",
    "model_tab_tabnet_triplets = snu.TabNetEmbeddingModel(input_features, embedding_size)\n",
    "model_tab_tabnet_triplets.to(device)\n",
    "\n",
    "# Ensure group attention matrix is also on GPU\n",
    "if hasattr(model_tab_tabnet_triplets.tabnet.encoder, 'group_attention_matrix'):\n",
    "    model_tab_tabnet_triplets.tabnet.encoder.group_attention_matrix = model_tab_tabnet_triplets.tabnet.encoder.group_attention_matrix.to(device)"
   ]
  },
  {
   "cell_type": "code",
   "execution_count": 41,
   "metadata": {},
   "outputs": [],
   "source": [
    "# parameters for training\n",
    "lr = 0.001\n",
    "l2_strength = 1e-05\n",
    "l1_strength = 1e-07\n",
    "epochs = 50\n",
    "\n",
    "# margin a little bit bigger that 2.415351 - median margin for dissimilar pairs\n",
    "margin = 1.3\n",
    "\n",
    "# Optimizer               \n",
    "optimizer = optim.Adam(model_tab_tabnet_triplets.parameters(), lr=lr)\n",
    "\n",
    "\n",
    "criterion = nn.TripletMarginLoss(margin=margin)"
   ]
  },
  {
   "cell_type": "code",
   "execution_count": 42,
   "metadata": {},
   "outputs": [
    {
     "name": "stderr",
     "output_type": "stream",
     "text": [
      "100%|██████████| 159/159 [00:35<00:00,  4.51it/s]\n",
      "100%|██████████| 23/23 [00:03<00:00,  7.46it/s]\n",
      "100%|██████████| 159/159 [00:36<00:00,  4.34it/s]\n",
      "100%|██████████| 23/23 [00:02<00:00,  9.21it/s]\n",
      "100%|██████████| 159/159 [00:36<00:00,  4.32it/s]\n",
      "100%|██████████| 23/23 [00:02<00:00,  8.96it/s]\n",
      "100%|██████████| 159/159 [00:35<00:00,  4.51it/s]\n",
      "100%|██████████| 23/23 [00:02<00:00,  8.86it/s]\n",
      "100%|██████████| 159/159 [00:33<00:00,  4.68it/s]\n",
      "100%|██████████| 23/23 [00:02<00:00,  9.12it/s]\n",
      "100%|██████████| 159/159 [00:33<00:00,  4.69it/s]\n",
      "100%|██████████| 23/23 [00:02<00:00,  7.84it/s]\n",
      "100%|██████████| 159/159 [00:32<00:00,  4.82it/s]\n",
      "100%|██████████| 23/23 [00:02<00:00,  9.06it/s]\n",
      "100%|██████████| 159/159 [00:32<00:00,  4.86it/s]\n",
      "100%|██████████| 23/23 [00:02<00:00,  9.13it/s]\n",
      "100%|██████████| 159/159 [00:32<00:00,  4.85it/s]\n",
      "100%|██████████| 23/23 [00:02<00:00,  9.06it/s]\n",
      "100%|██████████| 159/159 [00:32<00:00,  4.85it/s]\n",
      "100%|██████████| 23/23 [00:02<00:00,  9.06it/s]\n",
      "100%|██████████| 159/159 [00:32<00:00,  4.87it/s]\n",
      "100%|██████████| 23/23 [00:02<00:00,  9.08it/s]\n",
      "100%|██████████| 159/159 [00:32<00:00,  4.85it/s]\n",
      "100%|██████████| 23/23 [00:02<00:00,  9.06it/s]\n",
      "100%|██████████| 159/159 [00:32<00:00,  4.84it/s]\n",
      "100%|██████████| 23/23 [00:02<00:00,  9.05it/s]\n",
      "100%|██████████| 159/159 [00:32<00:00,  4.85it/s]\n",
      "100%|██████████| 23/23 [00:02<00:00,  9.04it/s]\n",
      "100%|██████████| 159/159 [00:32<00:00,  4.82it/s]\n",
      "100%|██████████| 23/23 [00:02<00:00,  9.00it/s]\n",
      "100%|██████████| 159/159 [00:32<00:00,  4.83it/s]\n",
      "100%|██████████| 23/23 [00:02<00:00,  9.04it/s]\n",
      "100%|██████████| 159/159 [00:32<00:00,  4.82it/s]\n",
      "100%|██████████| 23/23 [00:02<00:00,  8.96it/s]\n",
      "100%|██████████| 159/159 [00:32<00:00,  4.83it/s]\n",
      "100%|██████████| 23/23 [00:02<00:00,  8.95it/s]\n",
      "100%|██████████| 159/159 [00:32<00:00,  4.82it/s]\n",
      "100%|██████████| 23/23 [00:02<00:00,  9.02it/s]\n",
      "100%|██████████| 159/159 [00:32<00:00,  4.84it/s]\n",
      "100%|██████████| 23/23 [00:02<00:00,  8.90it/s]\n",
      "100%|██████████| 159/159 [00:33<00:00,  4.81it/s]\n",
      "100%|██████████| 23/23 [00:02<00:00,  8.74it/s]\n",
      "100%|██████████| 159/159 [00:32<00:00,  4.84it/s]\n",
      "100%|██████████| 23/23 [00:02<00:00,  8.93it/s]\n",
      "100%|██████████| 159/159 [00:32<00:00,  4.83it/s]\n",
      "100%|██████████| 23/23 [00:02<00:00,  8.97it/s]\n",
      "100%|██████████| 159/159 [00:32<00:00,  4.85it/s]\n",
      "100%|██████████| 23/23 [00:02<00:00,  9.04it/s]\n",
      "100%|██████████| 159/159 [00:32<00:00,  4.83it/s]\n",
      "100%|██████████| 23/23 [00:02<00:00,  8.98it/s]\n",
      "100%|██████████| 159/159 [00:32<00:00,  4.82it/s]\n",
      "100%|██████████| 23/23 [00:02<00:00,  9.00it/s]\n",
      "100%|██████████| 159/159 [00:32<00:00,  4.84it/s]\n",
      "100%|██████████| 23/23 [00:02<00:00,  9.17it/s]\n",
      "100%|██████████| 159/159 [00:32<00:00,  4.84it/s]\n",
      "100%|██████████| 23/23 [00:02<00:00,  8.91it/s]\n",
      "100%|██████████| 159/159 [00:32<00:00,  4.82it/s]\n",
      "100%|██████████| 23/23 [00:02<00:00,  8.71it/s]\n",
      "100%|██████████| 159/159 [00:32<00:00,  4.83it/s]\n",
      "100%|██████████| 23/23 [00:02<00:00,  8.97it/s]\n",
      "100%|██████████| 159/159 [00:33<00:00,  4.81it/s]\n",
      "100%|██████████| 23/23 [00:02<00:00,  8.91it/s]\n",
      "100%|██████████| 159/159 [00:33<00:00,  4.81it/s]\n",
      "100%|██████████| 23/23 [00:02<00:00,  8.92it/s]\n",
      "100%|██████████| 159/159 [00:33<00:00,  4.81it/s]\n",
      "100%|██████████| 23/23 [00:02<00:00,  8.97it/s]\n",
      "100%|██████████| 159/159 [00:32<00:00,  4.83it/s]\n",
      "100%|██████████| 23/23 [00:02<00:00,  8.84it/s]\n",
      "100%|██████████| 159/159 [00:32<00:00,  4.82it/s]\n",
      "100%|██████████| 23/23 [00:02<00:00,  8.98it/s]\n",
      "100%|██████████| 159/159 [00:33<00:00,  4.81it/s]\n",
      "100%|██████████| 23/23 [00:02<00:00,  8.90it/s]\n",
      "100%|██████████| 159/159 [00:33<00:00,  4.81it/s]\n",
      "100%|██████████| 23/23 [00:02<00:00,  9.00it/s]\n",
      "100%|██████████| 159/159 [00:33<00:00,  4.82it/s]\n",
      "100%|██████████| 23/23 [00:02<00:00,  9.03it/s]\n",
      "100%|██████████| 159/159 [00:32<00:00,  4.83it/s]\n",
      "100%|██████████| 23/23 [00:02<00:00,  8.93it/s]\n",
      "100%|██████████| 159/159 [00:32<00:00,  4.82it/s]\n",
      "100%|██████████| 23/23 [00:02<00:00,  9.01it/s]\n",
      "100%|██████████| 159/159 [00:33<00:00,  4.71it/s]\n",
      "100%|██████████| 23/23 [00:03<00:00,  7.32it/s]\n",
      "100%|██████████| 159/159 [00:37<00:00,  4.23it/s]\n",
      "100%|██████████| 23/23 [00:03<00:00,  7.46it/s]\n",
      "100%|██████████| 159/159 [00:35<00:00,  4.42it/s]\n",
      "100%|██████████| 23/23 [00:02<00:00,  9.20it/s]\n",
      "100%|██████████| 159/159 [00:32<00:00,  4.88it/s]\n",
      "100%|██████████| 23/23 [00:02<00:00,  9.26it/s]\n",
      "100%|██████████| 159/159 [00:32<00:00,  4.93it/s]\n",
      "100%|██████████| 23/23 [00:02<00:00,  9.23it/s]\n",
      "100%|██████████| 159/159 [00:32<00:00,  4.95it/s]\n",
      "100%|██████████| 23/23 [00:02<00:00,  9.24it/s]\n",
      "100%|██████████| 159/159 [00:32<00:00,  4.96it/s]\n",
      "100%|██████████| 23/23 [00:02<00:00,  9.22it/s]\n",
      "100%|██████████| 159/159 [00:31<00:00,  4.98it/s]\n",
      "100%|██████████| 23/23 [00:02<00:00,  8.94it/s]\n",
      "100%|██████████| 159/159 [00:31<00:00,  4.98it/s]\n",
      "100%|██████████| 23/23 [00:02<00:00,  9.22it/s]\n",
      "100%|██████████| 159/159 [00:31<00:00,  4.98it/s]\n",
      "100%|██████████| 23/23 [00:02<00:00,  9.26it/s]\n"
     ]
    },
    {
     "name": "stdout",
     "output_type": "stream",
     "text": [
      "\n",
      "embedding_size: 32\n",
      "lr: 0.001\n",
      "l2_strength: 1e-05\n",
      "l1_strength: 1e-07\n",
      "\n"
     ]
    },
    {
     "data": {
      "image/png": "[encoded data removed]",
      "text/plain": [
       "<Figure size 1000x500 with 1 Axes>"
      ]
     },
     "metadata": {},
     "output_type": "display_data"
    }
   ],
   "source": [
    "# first round of training\n",
    "train_loss_list_tabnet_triplets,val_loss_list_tabnet_triplets =  snu.training_func(\n",
    "                                                    model_tab_tabnet_triplets, \n",
    "                                                   epochs, \n",
    "                                                   trainloader_triplets, \n",
    "                                                   valloader_triplets, \n",
    "                                                   lr=lr, \n",
    "                                                   l1_strength=l1_strength, \n",
    "                                                   l2_strength=l2_strength, \n",
    "                                                   optimizer=optimizer,\n",
    "                                                   criterion=criterion, \n",
    "                                                   device=device, \n",
    "                                                   pairs=False, \n",
    "                                                   tabnet=True, \n",
    "                                                   best_valid_loss=np.inf,\n",
    "                                                   train_loss_list=[], \n",
    "                                                   val_loss_list=[], \n",
    "                                                   save_res_to_file=True, \n",
    "                                                   plot_result = True)"
   ]
  },
  {
   "cell_type": "markdown",
   "metadata": {},
   "source": [
    "<h4>FAISS DB</h4>\n",
    "\n",
    "Further the test set consists from last sessions of each user in the train set"
   ]
  },
  {
   "cell_type": "code",
   "execution_count": 26,
   "metadata": {},
   "outputs": [],
   "source": [
    "import faiss"
   ]
  },
  {
   "cell_type": "code",
   "execution_count": 93,
   "metadata": {},
   "outputs": [],
   "source": [
    "def create_faiss_db(data, model=None, tabnet=False) -> faiss.IndexFlatL2:\n",
    "    \"\"\"\n",
    "    Creates a FAISS database from the given data.\n",
    "\n",
    "    Args:\n",
    "    embedded_data (np.ndarray): The data to be added to the FAISS index.\n",
    "\n",
    "    Returns:\n",
    "    faiss.IndexFlatL2: The FAISS index containing the data.\n",
    "    \"\"\"\n",
    "    if model:\n",
    "    \n",
    "        if tabnet:\n",
    "            input_tensor = torch.tensor(data.iloc[:, 2:].to_numpy(), dtype=torch.float32)\n",
    "            embedded_data = model(input_tensor)[0].detach().squeeze(0).numpy()\n",
    "\n",
    "        else:\n",
    "            input_tensor = torch.tensor(data.iloc[:, 2:].to_numpy(), dtype=torch.float32).unsqueeze(0)\n",
    "            embedded_data = model(input_tensor).detach().squeeze(0).numpy()\n",
    "\n",
    "    else:\n",
    "        embedded_data = data.iloc[:, 2:].to_numpy()\n",
    "\n",
    "    user_ids = list(data['user_id'])\n",
    "\n",
    "    vector_dimension = embedded_data.shape[1]\n",
    "    index = faiss.IndexFlatL2(vector_dimension)\n",
    "    index.add(embedded_data)\n",
    "\n",
    "    return index, user_ids"
   ]
  },
  {
   "cell_type": "code",
   "execution_count": 111,
   "metadata": {},
   "outputs": [],
   "source": [
    "def evaluate_faiss_db(k, test_set, faiss_index, user_ids, model=None, tabnet=False):\n",
    "    k = k\n",
    "    answ = []\n",
    "    answ_dict = {'Distance': [], 'Result': [], 'K': []}\n",
    "\n",
    "    \n",
    "    for i in tqdm(range(len(test_set))):\n",
    "\n",
    "        if model:\n",
    "\n",
    "            if tabnet:\n",
    "                input_tensor = torch.tensor(test_set.iloc[:, 2:].to_numpy(), dtype=torch.float32)\n",
    "                embedded_data_test = model(input_tensor)[0].detach().numpy() #.squeeze(0)\n",
    "\n",
    "            else:\n",
    "                input_tensor = torch.tensor(test_set.iloc[i, 2:].to_numpy(), dtype=torch.float32).unsqueeze(0)\n",
    "\n",
    "                embedded_data_test = model(input_tensor).detach().squeeze(0).numpy()\n",
    "                \n",
    "            if embedded_data_test.ndim == 1:\n",
    "                embedded_data_test = embedded_data_test.reshape(1, -1)\n",
    "\n",
    "        else:\n",
    "            embedded_data_test = test_set.iloc[i, 2:].values.reshape(1, -1)\n",
    "\n",
    "        distances, indices = faiss_index.search(embedded_data_test, k)\n",
    "\n",
    "        # print(\"Original user_id:\", test_set_db['user_id'].iloc[i])\n",
    "        # print(\"Nearest sessions:\")\n",
    "        y_user_ids = []\n",
    "\n",
    "        for ni in range(k):\n",
    "            idx = indices[0][ni]\n",
    "            # print(f\"Index in FAISS: {idx}, User ID: {user_ids[idx]}, Distance: {distances[0][ni]}\")\n",
    "            y_user_ids.append(user_ids[idx])\n",
    "            answ_dict['Distance'].append(distances[0][ni])\n",
    "            answ_dict['Result'].append(test_set['user_id'].iloc[i] == user_ids[idx])\n",
    "            answ_dict['K'].append(k)\n",
    "\n",
    "        res = test_set['user_id'].iloc[i] in y_user_ids\n",
    "        \n",
    "        # print(res)\n",
    "        answ.append(res)\n",
    "        # print()   \n",
    "\n",
    "    print(sum(answ) / len(answ))\n",
    "    \n",
    "    return answ_dict"
   ]
  },
  {
   "cell_type": "markdown",
   "metadata": {},
   "source": [
    "- to create index from train data\n",
    "- test on validation data\n",
    "- test on random test data\n",
    "\n",
    "- Raw data w/o embedding\n",
    "- Custom Tabular Model with Contrastive Loss\n",
    "- TabNet with Contrastive Loss\n",
    "- Custom Tabular Model with TripletMargin Loss\n",
    "- TabNet with TripletMargin Loss"
   ]
  },
  {
   "cell_type": "markdown",
   "metadata": {},
   "source": [
    "<h3>Preprocessed data w/o embedding</h3>"
   ]
  },
  {
   "cell_type": "code",
   "execution_count": 102,
   "metadata": {},
   "outputs": [
    {
     "name": "stdout",
     "output_type": "stream",
     "text": [
      "k = 1\n"
     ]
    },
    {
     "name": "stderr",
     "output_type": "stream",
     "text": [
      "100%|██████████| 70/70 [00:00<00:00, 2476.29it/s]\n"
     ]
    },
    {
     "name": "stdout",
     "output_type": "stream",
     "text": [
      "0.38571428571428573\n",
      "\n",
      "k = 3\n"
     ]
    },
    {
     "name": "stderr",
     "output_type": "stream",
     "text": [
      "100%|██████████| 70/70 [00:00<00:00, 2442.93it/s]\n"
     ]
    },
    {
     "name": "stdout",
     "output_type": "stream",
     "text": [
      "0.4857142857142857\n",
      "\n",
      "k = 5\n"
     ]
    },
    {
     "name": "stderr",
     "output_type": "stream",
     "text": [
      "100%|██████████| 70/70 [00:00<00:00, 2503.76it/s]"
     ]
    },
    {
     "name": "stdout",
     "output_type": "stream",
     "text": [
      "0.5285714285714286\n",
      "\n"
     ]
    },
    {
     "name": "stderr",
     "output_type": "stream",
     "text": [
      "\n"
     ]
    }
   ],
   "source": [
    "data_train_wo_emb = df_preprocessed[df_preprocessed['session_id'].isin(train_set_nn['session_id'])]\n",
    "\n",
    "index_wo_emb, user_ids_wo_emb = create_faiss_db(data_train_wo_emb)\n",
    "\n",
    "\n",
    "\n",
    "test_set_wo_emb = df_preprocessed[df_preprocessed['session_id'].isin(test_set_nn['session_id'])]\n",
    "\n",
    "for k in [1, 3, 5]:\n",
    "    print(\"k =\", k)\n",
    "    faiss_search_res_wo_emb = evaluate_faiss_db(k, \n",
    "                                                test_set_wo_emb, \n",
    "                                                index_wo_emb, \n",
    "                                                user_ids_wo_emb, \n",
    "                                                model=None)\n",
    "    print()"
   ]
  },
  {
   "cell_type": "markdown",
   "metadata": {},
   "source": [
    "<h3>Embedded data with Tabular pairs model</h3>"
   ]
  },
  {
   "cell_type": "code",
   "execution_count": 84,
   "metadata": {},
   "outputs": [
    {
     "name": "stdout",
     "output_type": "stream",
     "text": [
      "k = 1\n"
     ]
    },
    {
     "name": "stderr",
     "output_type": "stream",
     "text": [
      "  0%|          | 0/70 [00:00<?, ?it/s]"
     ]
    },
    {
     "name": "stderr",
     "output_type": "stream",
     "text": [
      "100%|██████████| 70/70 [00:00<00:00, 1519.49it/s]\n"
     ]
    },
    {
     "name": "stdout",
     "output_type": "stream",
     "text": [
      "0.3\n",
      "\n",
      "k = 3\n"
     ]
    },
    {
     "name": "stderr",
     "output_type": "stream",
     "text": [
      "100%|██████████| 70/70 [00:00<00:00, 2049.07it/s]\n"
     ]
    },
    {
     "name": "stdout",
     "output_type": "stream",
     "text": [
      "0.37142857142857144\n",
      "\n",
      "k = 5\n"
     ]
    },
    {
     "name": "stderr",
     "output_type": "stream",
     "text": [
      "100%|██████████| 70/70 [00:00<00:00, 1821.97it/s]"
     ]
    },
    {
     "name": "stdout",
     "output_type": "stream",
     "text": [
      "0.42857142857142855\n",
      "\n"
     ]
    },
    {
     "name": "stderr",
     "output_type": "stream",
     "text": [
      "\n"
     ]
    }
   ],
   "source": [
    "# input_features = 90  \n",
    "# embedding_size = 16  \n",
    "# model_tab_custom_pairs = snu.TabularEmbeddingModel(input_features, embedding_size)\n",
    "model_tab_custom_pairs.load_state_dict(torch.load('best_models/best_TabularEmbeddingModel_pairs.pt'))\n",
    "model_tab_custom_pairs.to('cpu')\n",
    "\n",
    "\n",
    "index_wo_emb, user_ids_wo_emb = create_faiss_db(data_train_wo_emb, model_tab_custom_pairs)\n",
    "\n",
    "k=1\n",
    "\n",
    "for k in [1, 3, 5]:\n",
    "    print(\"k =\", k)\n",
    "    faiss_search_res_cm_pairs = evaluate_faiss_db(k, \n",
    "                                                  test_set_wo_emb, \n",
    "                                                  index_wo_emb, \n",
    "                                                  user_ids_wo_emb, \n",
    "                                                  model=model_tab_custom_pairs)\n",
    "    print()"
   ]
  },
  {
   "cell_type": "code",
   "execution_count": 97,
   "metadata": {},
   "outputs": [
    {
     "name": "stdout",
     "output_type": "stream",
     "text": [
      "k = 1\n"
     ]
    },
    {
     "name": "stderr",
     "output_type": "stream",
     "text": [
      "100%|██████████| 70/70 [00:00<00:00, 2419.96it/s]\n"
     ]
    },
    {
     "name": "stdout",
     "output_type": "stream",
     "text": [
      "0.2857142857142857\n",
      "\n",
      "k = 3\n"
     ]
    },
    {
     "name": "stderr",
     "output_type": "stream",
     "text": [
      "100%|██████████| 70/70 [00:00<00:00, 2312.06it/s]\n"
     ]
    },
    {
     "name": "stdout",
     "output_type": "stream",
     "text": [
      "0.4142857142857143\n",
      "\n",
      "k = 5\n"
     ]
    },
    {
     "name": "stderr",
     "output_type": "stream",
     "text": [
      "100%|██████████| 70/70 [00:00<00:00, 2044.93it/s]"
     ]
    },
    {
     "name": "stdout",
     "output_type": "stream",
     "text": [
      "0.45714285714285713\n",
      "\n"
     ]
    },
    {
     "name": "stderr",
     "output_type": "stream",
     "text": [
      "\n"
     ]
    }
   ],
   "source": [
    "# input_features = 90  \n",
    "# embedding_size = 16  \n",
    "# model_tab_custom_pairs = snu.TabularEmbeddingModel(input_features, embedding_size)\n",
    "model_tab_custom_pairs.load_state_dict(torch.load('best_models/best_TabularEmbeddingModel_pairs_m243.pt'))\n",
    "model_tab_custom_pairs.to('cpu')\n",
    "\n",
    "index_wo_emb, user_ids_wo_emb = create_faiss_db(data_train_wo_emb, model_tab_custom_pairs)\n",
    "\n",
    "for k in [1, 3, 5]:\n",
    "    print(\"k =\", k)\n",
    "    faiss_search_res_cm_pairs = evaluate_faiss_db(k, \n",
    "                                                  test_set_wo_emb, \n",
    "                                                  index_wo_emb, \n",
    "                                                  user_ids_wo_emb, \n",
    "                                                  model=model_tab_custom_pairs,\n",
    "                                                  )\n",
    "    print()"
   ]
  },
  {
   "cell_type": "markdown",
   "metadata": {},
   "source": [
    "<h3>Embedded data with TabNet pairs model</h3>"
   ]
  },
  {
   "cell_type": "code",
   "execution_count": 95,
   "metadata": {},
   "outputs": [
    {
     "name": "stdout",
     "output_type": "stream",
     "text": [
      "k = 1\n"
     ]
    },
    {
     "name": "stderr",
     "output_type": "stream",
     "text": [
      "100%|██████████| 70/70 [00:00<00:00, 473.40it/s]\n"
     ]
    },
    {
     "name": "stdout",
     "output_type": "stream",
     "text": [
      "0.11428571428571428\n",
      "\n",
      "k = 3\n"
     ]
    },
    {
     "name": "stderr",
     "output_type": "stream",
     "text": [
      "100%|██████████| 70/70 [00:00<00:00, 299.93it/s]\n"
     ]
    },
    {
     "name": "stdout",
     "output_type": "stream",
     "text": [
      "0.18571428571428572\n",
      "\n",
      "k = 5\n"
     ]
    },
    {
     "name": "stderr",
     "output_type": "stream",
     "text": [
      "100%|██████████| 70/70 [00:00<00:00, 465.49it/s]"
     ]
    },
    {
     "name": "stdout",
     "output_type": "stream",
     "text": [
      "0.21428571428571427\n",
      "\n"
     ]
    },
    {
     "name": "stderr",
     "output_type": "stream",
     "text": [
      "\n"
     ]
    }
   ],
   "source": [
    "model_tbnet_pairs.load_state_dict(torch.load('best_models/best_TabNetEmbeddingModel_pairs.pt'))\n",
    "model_tbnet_pairs.to('cpu')\n",
    "\n",
    "# Ensure group attention matrix is also on GPU\n",
    "if hasattr(model_tbnet_pairs.tabnet.encoder, 'group_attention_matrix'):\n",
    "    model_tbnet_pairs.tabnet.encoder.group_attention_matrix = model_tbnet_pairs.tabnet.encoder.group_attention_matrix.to('cpu')\n",
    "\n",
    "index_wo_emb, user_ids_wo_emb = create_faiss_db(data_train_wo_emb, model_tbnet_pairs, tabnet=True)\n",
    "\n",
    "k=1\n",
    "\n",
    "for k in [1, 3, 5]:\n",
    "    print(\"k =\", k)\n",
    "    faiss_search_res_cm_pairs = evaluate_faiss_db(k, \n",
    "                                                  test_set_wo_emb, \n",
    "                                                  index_wo_emb, \n",
    "                                                  user_ids_wo_emb, \n",
    "                                                  model=model_tbnet_pairs,\n",
    "                                                  tabnet=True)\n",
    "    print()"
   ]
  },
  {
   "cell_type": "markdown",
   "metadata": {},
   "source": [
    "<h3>Embedded data with Tabular triplets</h3>"
   ]
  },
  {
   "cell_type": "code",
   "execution_count": 115,
   "metadata": {},
   "outputs": [
    {
     "name": "stdout",
     "output_type": "stream",
     "text": [
      "k = 1\n"
     ]
    },
    {
     "name": "stderr",
     "output_type": "stream",
     "text": [
      "  0%|          | 0/70 [00:00<?, ?it/s]"
     ]
    },
    {
     "name": "stderr",
     "output_type": "stream",
     "text": [
      "100%|██████████| 70/70 [00:00<00:00, 1682.54it/s]\n"
     ]
    },
    {
     "name": "stdout",
     "output_type": "stream",
     "text": [
      "0.4714285714285714\n",
      "\n",
      "k = 3\n"
     ]
    },
    {
     "name": "stderr",
     "output_type": "stream",
     "text": [
      "100%|██████████| 70/70 [00:00<00:00, 2345.15it/s]\n"
     ]
    },
    {
     "name": "stdout",
     "output_type": "stream",
     "text": [
      "0.5571428571428572\n",
      "\n",
      "k = 5\n"
     ]
    },
    {
     "name": "stderr",
     "output_type": "stream",
     "text": [
      "100%|██████████| 70/70 [00:00<00:00, 2030.52it/s]"
     ]
    },
    {
     "name": "stdout",
     "output_type": "stream",
     "text": [
      "0.6285714285714286\n",
      "\n"
     ]
    },
    {
     "name": "stderr",
     "output_type": "stream",
     "text": [
      "\n"
     ]
    }
   ],
   "source": [
    "# input_features = 90  \n",
    "# embedding_size = 16  \n",
    "# model_tab_custom_pairs = snu.TabularEmbeddingModel(input_features, embedding_size)\n",
    "model = model_tab_custom_triplets\n",
    "model.load_state_dict(torch.load('best_models/best_TabularEmbeddingModel_triplets_1_m243.pt'))\n",
    "model.to('cpu')\n",
    "\n",
    "index_wo_emb, user_ids_wo_emb = create_faiss_db(data_train_wo_emb, model)\n",
    "\n",
    "for k in [1, 3, 5]:\n",
    "    print(\"k =\", k)\n",
    "    faiss_search_res_cm_pairs = evaluate_faiss_db(k, \n",
    "                                                  test_set_wo_emb, \n",
    "                                                  index_wo_emb, \n",
    "                                                  user_ids_wo_emb, \n",
    "                                                  model=model,\n",
    "                                                  )\n",
    "    print()"
   ]
  },
  {
   "cell_type": "code",
   "execution_count": 103,
   "metadata": {},
   "outputs": [
    {
     "name": "stdout",
     "output_type": "stream",
     "text": [
      "k = 1\n"
     ]
    },
    {
     "name": "stderr",
     "output_type": "stream",
     "text": [
      "100%|██████████| 70/70 [00:00<00:00, 2266.39it/s]\n"
     ]
    },
    {
     "name": "stdout",
     "output_type": "stream",
     "text": [
      "0.44285714285714284\n",
      "\n",
      "k = 3\n"
     ]
    },
    {
     "name": "stderr",
     "output_type": "stream",
     "text": [
      "100%|██████████| 70/70 [00:00<00:00, 2446.70it/s]\n"
     ]
    },
    {
     "name": "stdout",
     "output_type": "stream",
     "text": [
      "0.5285714285714286\n",
      "\n",
      "k = 5\n"
     ]
    },
    {
     "name": "stderr",
     "output_type": "stream",
     "text": [
      "100%|██████████| 70/70 [00:00<00:00, 2241.57it/s]"
     ]
    },
    {
     "name": "stdout",
     "output_type": "stream",
     "text": [
      "0.5857142857142857\n",
      "\n"
     ]
    },
    {
     "name": "stderr",
     "output_type": "stream",
     "text": [
      "\n"
     ]
    }
   ],
   "source": [
    "# input_features = 90  \n",
    "# embedding_size = 16  \n",
    "# model_tab_custom_pairs = snu.TabularEmbeddingModel(input_features, embedding_size)\n",
    "model = model_tab_custom_triplets\n",
    "model.load_state_dict(torch.load('best_models/best_TabularEmbeddingModel_triplets_2_m13.pt'))\n",
    "model.to('cpu')\n",
    "\n",
    "index_wo_emb, user_ids_wo_emb = create_faiss_db(data_train_wo_emb, model)\n",
    "\n",
    "for k in [1, 3, 5]:\n",
    "    print(\"k =\", k)\n",
    "    faiss_search_res_cm_pairs = evaluate_faiss_db(k, \n",
    "                                                  test_set_wo_emb, \n",
    "                                                  index_wo_emb, \n",
    "                                                  user_ids_wo_emb, \n",
    "                                                  model=model,\n",
    "                                                  )\n",
    "    print()"
   ]
  },
  {
   "cell_type": "code",
   "execution_count": 104,
   "metadata": {},
   "outputs": [
    {
     "name": "stdout",
     "output_type": "stream",
     "text": [
      "k = 1\n"
     ]
    },
    {
     "name": "stderr",
     "output_type": "stream",
     "text": [
      "100%|██████████| 70/70 [00:00<00:00, 596.02it/s]\n"
     ]
    },
    {
     "name": "stdout",
     "output_type": "stream",
     "text": [
      "0.4142857142857143\n",
      "\n",
      "k = 3\n"
     ]
    },
    {
     "name": "stderr",
     "output_type": "stream",
     "text": [
      "100%|██████████| 70/70 [00:00<00:00, 2211.69it/s]\n"
     ]
    },
    {
     "name": "stdout",
     "output_type": "stream",
     "text": [
      "0.5\n",
      "\n",
      "k = 5\n"
     ]
    },
    {
     "name": "stderr",
     "output_type": "stream",
     "text": [
      "100%|██████████| 70/70 [00:00<00:00, 2097.81it/s]"
     ]
    },
    {
     "name": "stdout",
     "output_type": "stream",
     "text": [
      "0.5857142857142857\n",
      "\n"
     ]
    },
    {
     "name": "stderr",
     "output_type": "stream",
     "text": [
      "\n"
     ]
    }
   ],
   "source": [
    "# input_features = 90  \n",
    "# embedding_size = 16  \n",
    "# model_tab_custom_pairs = snu.TabularEmbeddingModel(input_features, embedding_size)\n",
    "model = model_tab_custom_triplets\n",
    "model.load_state_dict(torch.load('best_models/best_TabularEmbeddingModel_triplets.pt'))\n",
    "model.to('cpu')\n",
    "\n",
    "index_wo_emb, user_ids_wo_emb = create_faiss_db(data_train_wo_emb, model)\n",
    "\n",
    "for k in [1, 3, 5]:\n",
    "    print(\"k =\", k)\n",
    "    faiss_search_res_cm_pairs = evaluate_faiss_db(k, \n",
    "                                                  test_set_wo_emb, \n",
    "                                                  index_wo_emb, \n",
    "                                                  user_ids_wo_emb, \n",
    "                                                  model=model,\n",
    "                                                  )\n",
    "    print()"
   ]
  },
  {
   "cell_type": "markdown",
   "metadata": {},
   "source": [
    "<h3>Embedded data with TabNet triplets</h3>"
   ]
  },
  {
   "cell_type": "code",
   "execution_count": 112,
   "metadata": {},
   "outputs": [
    {
     "name": "stdout",
     "output_type": "stream",
     "text": [
      "k = 1\n"
     ]
    },
    {
     "name": "stderr",
     "output_type": "stream",
     "text": [
      "100%|██████████| 70/70 [00:01<00:00, 45.56it/s]\n"
     ]
    },
    {
     "name": "stdout",
     "output_type": "stream",
     "text": [
      "0.014285714285714285\n",
      "\n",
      "k = 3\n"
     ]
    },
    {
     "name": "stderr",
     "output_type": "stream",
     "text": [
      "100%|██████████| 70/70 [00:01<00:00, 54.88it/s]\n"
     ]
    },
    {
     "name": "stdout",
     "output_type": "stream",
     "text": [
      "0.04285714285714286\n",
      "\n",
      "k = 5\n"
     ]
    },
    {
     "name": "stderr",
     "output_type": "stream",
     "text": [
      "100%|██████████| 70/70 [00:01<00:00, 52.44it/s]"
     ]
    },
    {
     "name": "stdout",
     "output_type": "stream",
     "text": [
      "0.07142857142857142\n",
      "\n"
     ]
    },
    {
     "name": "stderr",
     "output_type": "stream",
     "text": [
      "\n"
     ]
    }
   ],
   "source": [
    "input_features = 90  \n",
    "embedding_size = 16  \n",
    "model_tab_tabnet_triplets = snu.TabNetEmbeddingModel(input_features, embedding_size)\n",
    "\n",
    "model = model_tab_tabnet_triplets\n",
    "model.load_state_dict(torch.load('best_models/best_TabNetEmbeddingModel_triplets_1_m243.pt'))\n",
    "model.to('cpu')\n",
    "\n",
    "# Ensure group attention matrix is also on GPU\n",
    "if hasattr(model.tabnet.encoder, 'group_attention_matrix'):\n",
    "    model.tabnet.encoder.group_attention_matrix = model_tbnet_pairs.tabnet.encoder.group_attention_matrix.to('cpu')\n",
    "\n",
    "index_wo_emb, user_ids_wo_emb = create_faiss_db(data_train_wo_emb, model, tabnet=True)\n",
    "\n",
    "for k in [1, 3, 5]:\n",
    "    print(\"k =\", k)\n",
    "    faiss_search_res_cm_pairs = evaluate_faiss_db(k, \n",
    "                                                  test_set_wo_emb, \n",
    "                                                  index_wo_emb, \n",
    "                                                  user_ids_wo_emb, \n",
    "                                                  model=model,\n",
    "                                                  tabnet=True)\n",
    "    print()"
   ]
  },
  {
   "cell_type": "code",
   "execution_count": 113,
   "metadata": {},
   "outputs": [
    {
     "name": "stdout",
     "output_type": "stream",
     "text": [
      "k = 1\n"
     ]
    },
    {
     "name": "stderr",
     "output_type": "stream",
     "text": [
      "100%|██████████| 70/70 [00:01<00:00, 62.25it/s]\n"
     ]
    },
    {
     "name": "stdout",
     "output_type": "stream",
     "text": [
      "0.014285714285714285\n",
      "\n",
      "k = 3\n"
     ]
    },
    {
     "name": "stderr",
     "output_type": "stream",
     "text": [
      "100%|██████████| 70/70 [00:01<00:00, 56.98it/s]\n"
     ]
    },
    {
     "name": "stdout",
     "output_type": "stream",
     "text": [
      "0.04285714285714286\n",
      "\n",
      "k = 5\n"
     ]
    },
    {
     "name": "stderr",
     "output_type": "stream",
     "text": [
      "100%|██████████| 70/70 [00:01<00:00, 57.19it/s]"
     ]
    },
    {
     "name": "stdout",
     "output_type": "stream",
     "text": [
      "0.07142857142857142\n",
      "\n"
     ]
    },
    {
     "name": "stderr",
     "output_type": "stream",
     "text": [
      "\n"
     ]
    }
   ],
   "source": [
    "input_features = 90  \n",
    "embedding_size = 16  \n",
    "model_tab_tabnet_triplets = snu.TabNetEmbeddingModel(input_features, embedding_size)\n",
    "\n",
    "model = model_tab_tabnet_triplets\n",
    "model.load_state_dict(torch.load('best_models/best_TabNetEmbeddingModel_triplets_2_m13.pt'))\n",
    "model.to('cpu')\n",
    "\n",
    "# Ensure group attention matrix is also on GPU\n",
    "if hasattr(model.tabnet.encoder, 'group_attention_matrix'):\n",
    "    model.tabnet.encoder.group_attention_matrix = model_tbnet_pairs.tabnet.encoder.group_attention_matrix.to('cpu')\n",
    "\n",
    "index_wo_emb, user_ids_wo_emb = create_faiss_db(data_train_wo_emb, model, tabnet=True)\n",
    "\n",
    "for k in [1, 3, 5]:\n",
    "    print(\"k =\", k)\n",
    "    faiss_search_res_cm_pairs = evaluate_faiss_db(k, \n",
    "                                                  test_set_wo_emb, \n",
    "                                                  index_wo_emb, \n",
    "                                                  user_ids_wo_emb, \n",
    "                                                  model=model,\n",
    "                                                  tabnet=True)\n",
    "    print()"
   ]
  },
  {
   "cell_type": "code",
   "execution_count": 114,
   "metadata": {},
   "outputs": [
    {
     "name": "stdout",
     "output_type": "stream",
     "text": [
      "k = 1\n"
     ]
    },
    {
     "name": "stderr",
     "output_type": "stream",
     "text": [
      "100%|██████████| 70/70 [00:01<00:00, 53.41it/s]\n"
     ]
    },
    {
     "name": "stdout",
     "output_type": "stream",
     "text": [
      "0.014285714285714285\n",
      "\n",
      "k = 3\n"
     ]
    },
    {
     "name": "stderr",
     "output_type": "stream",
     "text": [
      "100%|██████████| 70/70 [00:01<00:00, 43.90it/s]\n"
     ]
    },
    {
     "name": "stdout",
     "output_type": "stream",
     "text": [
      "0.02857142857142857\n",
      "\n",
      "k = 5\n"
     ]
    },
    {
     "name": "stderr",
     "output_type": "stream",
     "text": [
      "100%|██████████| 70/70 [00:01<00:00, 40.52it/s]"
     ]
    },
    {
     "name": "stdout",
     "output_type": "stream",
     "text": [
      "0.04285714285714286\n",
      "\n"
     ]
    },
    {
     "name": "stderr",
     "output_type": "stream",
     "text": [
      "\n"
     ]
    }
   ],
   "source": [
    "input_features = 90  \n",
    "embedding_size = 32\n",
    "model_tab_tabnet_triplets = snu.TabNetEmbeddingModel(input_features, embedding_size)\n",
    "\n",
    "model = model_tab_tabnet_triplets\n",
    "model.load_state_dict(torch.load('best_models/best_TabNetEmbeddingModel_triplets_3_emb32.pt'))\n",
    "model.to('cpu')\n",
    "\n",
    "# Ensure group attention matrix is also on GPU\n",
    "if hasattr(model.tabnet.encoder, 'group_attention_matrix'):\n",
    "    model.tabnet.encoder.group_attention_matrix = model_tbnet_pairs.tabnet.encoder.group_attention_matrix.to('cpu')\n",
    "\n",
    "index_wo_emb, user_ids_wo_emb = create_faiss_db(data_train_wo_emb, model, tabnet=True)\n",
    "\n",
    "for k in [1, 3, 5]:\n",
    "    print(\"k =\", k)\n",
    "    faiss_search_res_cm_pairs = evaluate_faiss_db(k, \n",
    "                                                  test_set_wo_emb, \n",
    "                                                  index_wo_emb, \n",
    "                                                  user_ids_wo_emb, \n",
    "                                                  model=model,\n",
    "                                                  tabnet=True)\n",
    "    print()"
   ]
  },
  {
   "cell_type": "markdown",
   "metadata": {},
   "source": [
    "<h3>UMAP</h3>"
   ]
  },
  {
   "cell_type": "code",
   "execution_count": null,
   "metadata": {},
   "outputs": [],
   "source": []
  }
 ],
 "metadata": {
  "kernelspec": {
   "display_name": "kahoona_prj",
   "language": "python",
   "name": "python3"
  },
  "language_info": {
   "codemirror_mode": {
    "name": "ipython",
    "version": 3
   },
   "file_extension": ".py",
   "mimetype": "text/x-python",
   "name": "python",
   "nbconvert_exporter": "python",
   "pygments_lexer": "ipython3",
   "version": "3.12.2"
  }
 },
 "nbformat": 4,
 "nbformat_minor": 2
}
